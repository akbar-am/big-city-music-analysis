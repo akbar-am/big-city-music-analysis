{
  "cells": [
    {
      "cell_type": "markdown",
      "metadata": {
        "id": "E0vqbgi9ay0H"
      },
      "source": [
        "# Perbedaan Perilaku Penggunaan Music Streaming Platform pada Dua Kota Berbeda"
      ]
    },
    {
      "cell_type": "markdown",
      "metadata": {
        "id": "fhq_eyov_Zcs"
      },
      "source": [
        "# Konten <a id='back'></a>\n",
        "\n",
        "* [Pendahuluan](#intro)\n",
        "* [Tahap 1. Ikhtisar Data](#data-review)\n",
        "    * [Kesimpulan](#data_review_conclusions)\n",
        "* [Tahap 2. Pra-pemrosesan data](#data_preprocessing)\n",
        "    * [2.1 Gaya Penulisan Judul](#header_style)\n",
        "    * [2.2 Nilai-Nilai yang Hilang](#missing_values)\n",
        "    * [2.3 Duplikat](#duplicates)\n",
        "    * [2.4 Kesimpulan](#data_preprocessing_conclusions)\n",
        "* [Tahap 3. Menguji Hipotesis](#hypotheses)\n",
        "    * [3.1 Hipotesis 1: aktivitas pengguna di dua kota](#activity)\n",
        "    * [3.2 Hipotesis 2: preferensi musik pada hari Senin dan Jumat](#week)\n",
        "    * [3.3 Hipotesis 3: preferensi genre di kota Springfield dan Shelbyville](#genre)\n",
        "* [Temuan](#end)"
      ]
    },
    {
      "cell_type": "markdown",
      "metadata": {
        "id": "VUC88oWjTJw2"
      },
      "source": [
        "## Pendahuluan <a id='intro'></a>\n",
        "*Music streaming platform* sudah digunakan di mana-mana dalam kehidupan sehari-hari, baik itu di tempat kerja ketika mengerjakan laporan, di *gym* ketika *workout*, maupun di rumah ketika hari libur dan waktunya istirahat. Berbagai lagu dari *artist* dan *genre* yang berbeda didengarkan setiap hari, karena tiap orang memiliki preferensi dan selera yang berbeda.\n",
        "\n",
        "Proyek ini akan membandingkan preferensi musik di kota Springfield dan Shelbyville dengan mempelajari data Y.Music yang sebenarnya untuk menguji hipotesis di bawah ini dan membandingkan perilaku pengguna di kedua kota tersebut.\n",
        "\n",
        "### Tujuan:\n",
        "Menguji tiga hipotesis:\n",
        "1. Aktivitas pengguna berbeda-beda tergantung pada hari dan kotanya.\n",
        "2. Pada senin pagi, penduduk Springfield dan Shelbyville mendengarkan genre yang berbeda. Hal ini juga ini juga berlaku untuk Jumat malam.\n",
        "3. Pendengar di Springfield dan Shelbyville memiliki preferensi yang berbeda. Di Springfield, mereka lebih suka musik pop, sementara Shelbyville, musik rap memiliki lebih banyak penggemar.\n",
        "\n",
        "### Tahapan\n",
        "Proyek ini akan terdiri dari tiga tahap:\n",
        " 1. Ikhtisar Data. Mempelajari data untuk mendapatkan insight yang bermanfaat.\n",
        " 2. Pra-pemrosesan Data. Membersihkan data dan mempersiapkan data sebelum dianalisis.\n",
        " 3. Menguji Hipotesis"
      ]
    },
    {
      "cell_type": "markdown",
      "metadata": {
        "id": "Ml1hmfXC_Zcs"
      },
      "source": [
        "## Tahap 1. Ikhtisar Data <a class=\"anchor\" id=\"data-review\"></a>"
      ]
    },
    {
      "cell_type": "code",
      "execution_count": 1,
      "metadata": {
        "id": "AXN7PHPN_Zcs"
      },
      "outputs": [],
      "source": [
        "# mengimpor Pandas\n",
        "import pandas as pd"
      ]
    },
    {
      "cell_type": "code",
      "execution_count": 2,
      "metadata": {
        "id": "m3xLbj5KNU1h"
      },
      "outputs": [],
      "source": [
        "# membaca berkas dan menyimpannya ke df\n",
        "try:\n",
        "  df = pd.read_csv(r'/datasets/music_project_en.csv')\n",
        "except:\n",
        "  url='https://raw.githubusercontent.com/akbar-am/big-city-music-analysis/main/music_project_en%20(1).csv'\n",
        "  df = pd.read_csv(url)"
      ]
    },
    {
      "cell_type": "code",
      "execution_count": 3,
      "metadata": {
        "id": "fFVu7vqh_Zct",
        "outputId": "4590e8a0-0496-4b39-a31a-b9d04f6a8dca",
        "colab": {
          "base_uri": "https://localhost:8080/",
          "height": 174
        }
      },
      "outputs": [
        {
          "output_type": "execute_result",
          "data": {
            "text/plain": [
              "          userID  Track     artist  genre       City        time     Day\n",
              "count      65079  63736      57512  63881        65079     65079   65079\n",
              "unique     41748  39666      37806    268            2     20392       3\n",
              "top     A8AE9169  Brand  Kartvelli    pop  Springfield  08:14:07  Friday\n",
              "freq          76    136        136   8850        45360        14   23149"
            ],
            "text/html": [
              "\n",
              "  <div id=\"df-313f7e8f-d49e-43a2-bb59-30d8d138e65a\" class=\"colab-df-container\">\n",
              "    <div>\n",
              "<style scoped>\n",
              "    .dataframe tbody tr th:only-of-type {\n",
              "        vertical-align: middle;\n",
              "    }\n",
              "\n",
              "    .dataframe tbody tr th {\n",
              "        vertical-align: top;\n",
              "    }\n",
              "\n",
              "    .dataframe thead th {\n",
              "        text-align: right;\n",
              "    }\n",
              "</style>\n",
              "<table border=\"1\" class=\"dataframe\">\n",
              "  <thead>\n",
              "    <tr style=\"text-align: right;\">\n",
              "      <th></th>\n",
              "      <th>userID</th>\n",
              "      <th>Track</th>\n",
              "      <th>artist</th>\n",
              "      <th>genre</th>\n",
              "      <th>City</th>\n",
              "      <th>time</th>\n",
              "      <th>Day</th>\n",
              "    </tr>\n",
              "  </thead>\n",
              "  <tbody>\n",
              "    <tr>\n",
              "      <th>count</th>\n",
              "      <td>65079</td>\n",
              "      <td>63736</td>\n",
              "      <td>57512</td>\n",
              "      <td>63881</td>\n",
              "      <td>65079</td>\n",
              "      <td>65079</td>\n",
              "      <td>65079</td>\n",
              "    </tr>\n",
              "    <tr>\n",
              "      <th>unique</th>\n",
              "      <td>41748</td>\n",
              "      <td>39666</td>\n",
              "      <td>37806</td>\n",
              "      <td>268</td>\n",
              "      <td>2</td>\n",
              "      <td>20392</td>\n",
              "      <td>3</td>\n",
              "    </tr>\n",
              "    <tr>\n",
              "      <th>top</th>\n",
              "      <td>A8AE9169</td>\n",
              "      <td>Brand</td>\n",
              "      <td>Kartvelli</td>\n",
              "      <td>pop</td>\n",
              "      <td>Springfield</td>\n",
              "      <td>08:14:07</td>\n",
              "      <td>Friday</td>\n",
              "    </tr>\n",
              "    <tr>\n",
              "      <th>freq</th>\n",
              "      <td>76</td>\n",
              "      <td>136</td>\n",
              "      <td>136</td>\n",
              "      <td>8850</td>\n",
              "      <td>45360</td>\n",
              "      <td>14</td>\n",
              "      <td>23149</td>\n",
              "    </tr>\n",
              "  </tbody>\n",
              "</table>\n",
              "</div>\n",
              "    <div class=\"colab-df-buttons\">\n",
              "\n",
              "  <div class=\"colab-df-container\">\n",
              "    <button class=\"colab-df-convert\" onclick=\"convertToInteractive('df-313f7e8f-d49e-43a2-bb59-30d8d138e65a')\"\n",
              "            title=\"Convert this dataframe to an interactive table.\"\n",
              "            style=\"display:none;\">\n",
              "\n",
              "  <svg xmlns=\"http://www.w3.org/2000/svg\" height=\"24px\" viewBox=\"0 -960 960 960\">\n",
              "    <path d=\"M120-120v-720h720v720H120Zm60-500h600v-160H180v160Zm220 220h160v-160H400v160Zm0 220h160v-160H400v160ZM180-400h160v-160H180v160Zm440 0h160v-160H620v160ZM180-180h160v-160H180v160Zm440 0h160v-160H620v160Z\"/>\n",
              "  </svg>\n",
              "    </button>\n",
              "\n",
              "  <style>\n",
              "    .colab-df-container {\n",
              "      display:flex;\n",
              "      gap: 12px;\n",
              "    }\n",
              "\n",
              "    .colab-df-convert {\n",
              "      background-color: #E8F0FE;\n",
              "      border: none;\n",
              "      border-radius: 50%;\n",
              "      cursor: pointer;\n",
              "      display: none;\n",
              "      fill: #1967D2;\n",
              "      height: 32px;\n",
              "      padding: 0 0 0 0;\n",
              "      width: 32px;\n",
              "    }\n",
              "\n",
              "    .colab-df-convert:hover {\n",
              "      background-color: #E2EBFA;\n",
              "      box-shadow: 0px 1px 2px rgba(60, 64, 67, 0.3), 0px 1px 3px 1px rgba(60, 64, 67, 0.15);\n",
              "      fill: #174EA6;\n",
              "    }\n",
              "\n",
              "    .colab-df-buttons div {\n",
              "      margin-bottom: 4px;\n",
              "    }\n",
              "\n",
              "    [theme=dark] .colab-df-convert {\n",
              "      background-color: #3B4455;\n",
              "      fill: #D2E3FC;\n",
              "    }\n",
              "\n",
              "    [theme=dark] .colab-df-convert:hover {\n",
              "      background-color: #434B5C;\n",
              "      box-shadow: 0px 1px 3px 1px rgba(0, 0, 0, 0.15);\n",
              "      filter: drop-shadow(0px 1px 2px rgba(0, 0, 0, 0.3));\n",
              "      fill: #FFFFFF;\n",
              "    }\n",
              "  </style>\n",
              "\n",
              "    <script>\n",
              "      const buttonEl =\n",
              "        document.querySelector('#df-313f7e8f-d49e-43a2-bb59-30d8d138e65a button.colab-df-convert');\n",
              "      buttonEl.style.display =\n",
              "        google.colab.kernel.accessAllowed ? 'block' : 'none';\n",
              "\n",
              "      async function convertToInteractive(key) {\n",
              "        const element = document.querySelector('#df-313f7e8f-d49e-43a2-bb59-30d8d138e65a');\n",
              "        const dataTable =\n",
              "          await google.colab.kernel.invokeFunction('convertToInteractive',\n",
              "                                                    [key], {});\n",
              "        if (!dataTable) return;\n",
              "\n",
              "        const docLinkHtml = 'Like what you see? Visit the ' +\n",
              "          '<a target=\"_blank\" href=https://colab.research.google.com/notebooks/data_table.ipynb>data table notebook</a>'\n",
              "          + ' to learn more about interactive tables.';\n",
              "        element.innerHTML = '';\n",
              "        dataTable['output_type'] = 'display_data';\n",
              "        await google.colab.output.renderOutput(dataTable, element);\n",
              "        const docLink = document.createElement('div');\n",
              "        docLink.innerHTML = docLinkHtml;\n",
              "        element.appendChild(docLink);\n",
              "      }\n",
              "    </script>\n",
              "  </div>\n",
              "\n",
              "\n",
              "<div id=\"df-d43af78c-b303-4040-aed1-09472bf9d7aa\">\n",
              "  <button class=\"colab-df-quickchart\" onclick=\"quickchart('df-d43af78c-b303-4040-aed1-09472bf9d7aa')\"\n",
              "            title=\"Suggest charts\"\n",
              "            style=\"display:none;\">\n",
              "\n",
              "<svg xmlns=\"http://www.w3.org/2000/svg\" height=\"24px\"viewBox=\"0 0 24 24\"\n",
              "     width=\"24px\">\n",
              "    <g>\n",
              "        <path d=\"M19 3H5c-1.1 0-2 .9-2 2v14c0 1.1.9 2 2 2h14c1.1 0 2-.9 2-2V5c0-1.1-.9-2-2-2zM9 17H7v-7h2v7zm4 0h-2V7h2v10zm4 0h-2v-4h2v4z\"/>\n",
              "    </g>\n",
              "</svg>\n",
              "  </button>\n",
              "\n",
              "<style>\n",
              "  .colab-df-quickchart {\n",
              "      --bg-color: #E8F0FE;\n",
              "      --fill-color: #1967D2;\n",
              "      --hover-bg-color: #E2EBFA;\n",
              "      --hover-fill-color: #174EA6;\n",
              "      --disabled-fill-color: #AAA;\n",
              "      --disabled-bg-color: #DDD;\n",
              "  }\n",
              "\n",
              "  [theme=dark] .colab-df-quickchart {\n",
              "      --bg-color: #3B4455;\n",
              "      --fill-color: #D2E3FC;\n",
              "      --hover-bg-color: #434B5C;\n",
              "      --hover-fill-color: #FFFFFF;\n",
              "      --disabled-bg-color: #3B4455;\n",
              "      --disabled-fill-color: #666;\n",
              "  }\n",
              "\n",
              "  .colab-df-quickchart {\n",
              "    background-color: var(--bg-color);\n",
              "    border: none;\n",
              "    border-radius: 50%;\n",
              "    cursor: pointer;\n",
              "    display: none;\n",
              "    fill: var(--fill-color);\n",
              "    height: 32px;\n",
              "    padding: 0;\n",
              "    width: 32px;\n",
              "  }\n",
              "\n",
              "  .colab-df-quickchart:hover {\n",
              "    background-color: var(--hover-bg-color);\n",
              "    box-shadow: 0 1px 2px rgba(60, 64, 67, 0.3), 0 1px 3px 1px rgba(60, 64, 67, 0.15);\n",
              "    fill: var(--button-hover-fill-color);\n",
              "  }\n",
              "\n",
              "  .colab-df-quickchart-complete:disabled,\n",
              "  .colab-df-quickchart-complete:disabled:hover {\n",
              "    background-color: var(--disabled-bg-color);\n",
              "    fill: var(--disabled-fill-color);\n",
              "    box-shadow: none;\n",
              "  }\n",
              "\n",
              "  .colab-df-spinner {\n",
              "    border: 2px solid var(--fill-color);\n",
              "    border-color: transparent;\n",
              "    border-bottom-color: var(--fill-color);\n",
              "    animation:\n",
              "      spin 1s steps(1) infinite;\n",
              "  }\n",
              "\n",
              "  @keyframes spin {\n",
              "    0% {\n",
              "      border-color: transparent;\n",
              "      border-bottom-color: var(--fill-color);\n",
              "      border-left-color: var(--fill-color);\n",
              "    }\n",
              "    20% {\n",
              "      border-color: transparent;\n",
              "      border-left-color: var(--fill-color);\n",
              "      border-top-color: var(--fill-color);\n",
              "    }\n",
              "    30% {\n",
              "      border-color: transparent;\n",
              "      border-left-color: var(--fill-color);\n",
              "      border-top-color: var(--fill-color);\n",
              "      border-right-color: var(--fill-color);\n",
              "    }\n",
              "    40% {\n",
              "      border-color: transparent;\n",
              "      border-right-color: var(--fill-color);\n",
              "      border-top-color: var(--fill-color);\n",
              "    }\n",
              "    60% {\n",
              "      border-color: transparent;\n",
              "      border-right-color: var(--fill-color);\n",
              "    }\n",
              "    80% {\n",
              "      border-color: transparent;\n",
              "      border-right-color: var(--fill-color);\n",
              "      border-bottom-color: var(--fill-color);\n",
              "    }\n",
              "    90% {\n",
              "      border-color: transparent;\n",
              "      border-bottom-color: var(--fill-color);\n",
              "    }\n",
              "  }\n",
              "</style>\n",
              "\n",
              "  <script>\n",
              "    async function quickchart(key) {\n",
              "      const quickchartButtonEl =\n",
              "        document.querySelector('#' + key + ' button');\n",
              "      quickchartButtonEl.disabled = true;  // To prevent multiple clicks.\n",
              "      quickchartButtonEl.classList.add('colab-df-spinner');\n",
              "      try {\n",
              "        const charts = await google.colab.kernel.invokeFunction(\n",
              "            'suggestCharts', [key], {});\n",
              "      } catch (error) {\n",
              "        console.error('Error during call to suggestCharts:', error);\n",
              "      }\n",
              "      quickchartButtonEl.classList.remove('colab-df-spinner');\n",
              "      quickchartButtonEl.classList.add('colab-df-quickchart-complete');\n",
              "    }\n",
              "    (() => {\n",
              "      let quickchartButtonEl =\n",
              "        document.querySelector('#df-d43af78c-b303-4040-aed1-09472bf9d7aa button');\n",
              "      quickchartButtonEl.style.display =\n",
              "        google.colab.kernel.accessAllowed ? 'block' : 'none';\n",
              "    })();\n",
              "  </script>\n",
              "</div>\n",
              "    </div>\n",
              "  </div>\n"
            ]
          },
          "metadata": {},
          "execution_count": 3
        }
      ],
      "source": [
        "#deskripsi statistik data\n",
        "df.describe()"
      ]
    },
    {
      "cell_type": "code",
      "execution_count": null,
      "metadata": {
        "scrolled": true,
        "id": "p52qlV3DNU1k",
        "outputId": "d9953e73-6998-474d-c5f9-bd20c1ab9705",
        "colab": {
          "base_uri": "https://localhost:8080/",
          "height": 363
        }
      },
      "outputs": [
        {
          "output_type": "execute_result",
          "data": {
            "text/plain": [
              "     userID                        Track            artist   genre  \\\n",
              "0  FFB692EC            Kamigata To Boots  The Mass Missile    rock   \n",
              "1  55204538  Delayed Because of Accident  Andreas Rönnberg    rock   \n",
              "2    20EC38            Funiculì funiculà       Mario Lanza     pop   \n",
              "3  A3DD03C9        Dragons in the Sunset        Fire + Ice    folk   \n",
              "4  E2DC1FAE                  Soul People        Space Echo   dance   \n",
              "5  842029A1                       Chains          Obladaet  rusrap   \n",
              "6  4CB90AA5                         True      Roman Messer   dance   \n",
              "7  F03E1C1F             Feeling This Way   Polina Griffith   dance   \n",
              "8  8FA1D3BE                     L’estate       Julia Dalia  ruspop   \n",
              "9  E772D5C0                    Pessimist               NaN   dance   \n",
              "\n",
              "        City        time        Day  \n",
              "0  Shelbyville  20:28:33  Wednesday  \n",
              "1  Springfield  14:07:09     Friday  \n",
              "2  Shelbyville  20:58:07  Wednesday  \n",
              "3  Shelbyville  08:37:09     Monday  \n",
              "4  Springfield  08:34:34     Monday  \n",
              "5  Shelbyville  13:09:41     Friday  \n",
              "6  Springfield  13:00:07  Wednesday  \n",
              "7  Springfield  20:47:49  Wednesday  \n",
              "8  Springfield  09:17:40     Friday  \n",
              "9  Shelbyville  21:20:49  Wednesday  "
            ],
            "text/html": [
              "\n",
              "  <div id=\"df-acde0893-1750-4d22-9da6-c73c6d7e6de1\" class=\"colab-df-container\">\n",
              "    <div>\n",
              "<style scoped>\n",
              "    .dataframe tbody tr th:only-of-type {\n",
              "        vertical-align: middle;\n",
              "    }\n",
              "\n",
              "    .dataframe tbody tr th {\n",
              "        vertical-align: top;\n",
              "    }\n",
              "\n",
              "    .dataframe thead th {\n",
              "        text-align: right;\n",
              "    }\n",
              "</style>\n",
              "<table border=\"1\" class=\"dataframe\">\n",
              "  <thead>\n",
              "    <tr style=\"text-align: right;\">\n",
              "      <th></th>\n",
              "      <th>userID</th>\n",
              "      <th>Track</th>\n",
              "      <th>artist</th>\n",
              "      <th>genre</th>\n",
              "      <th>City</th>\n",
              "      <th>time</th>\n",
              "      <th>Day</th>\n",
              "    </tr>\n",
              "  </thead>\n",
              "  <tbody>\n",
              "    <tr>\n",
              "      <th>0</th>\n",
              "      <td>FFB692EC</td>\n",
              "      <td>Kamigata To Boots</td>\n",
              "      <td>The Mass Missile</td>\n",
              "      <td>rock</td>\n",
              "      <td>Shelbyville</td>\n",
              "      <td>20:28:33</td>\n",
              "      <td>Wednesday</td>\n",
              "    </tr>\n",
              "    <tr>\n",
              "      <th>1</th>\n",
              "      <td>55204538</td>\n",
              "      <td>Delayed Because of Accident</td>\n",
              "      <td>Andreas Rönnberg</td>\n",
              "      <td>rock</td>\n",
              "      <td>Springfield</td>\n",
              "      <td>14:07:09</td>\n",
              "      <td>Friday</td>\n",
              "    </tr>\n",
              "    <tr>\n",
              "      <th>2</th>\n",
              "      <td>20EC38</td>\n",
              "      <td>Funiculì funiculà</td>\n",
              "      <td>Mario Lanza</td>\n",
              "      <td>pop</td>\n",
              "      <td>Shelbyville</td>\n",
              "      <td>20:58:07</td>\n",
              "      <td>Wednesday</td>\n",
              "    </tr>\n",
              "    <tr>\n",
              "      <th>3</th>\n",
              "      <td>A3DD03C9</td>\n",
              "      <td>Dragons in the Sunset</td>\n",
              "      <td>Fire + Ice</td>\n",
              "      <td>folk</td>\n",
              "      <td>Shelbyville</td>\n",
              "      <td>08:37:09</td>\n",
              "      <td>Monday</td>\n",
              "    </tr>\n",
              "    <tr>\n",
              "      <th>4</th>\n",
              "      <td>E2DC1FAE</td>\n",
              "      <td>Soul People</td>\n",
              "      <td>Space Echo</td>\n",
              "      <td>dance</td>\n",
              "      <td>Springfield</td>\n",
              "      <td>08:34:34</td>\n",
              "      <td>Monday</td>\n",
              "    </tr>\n",
              "    <tr>\n",
              "      <th>5</th>\n",
              "      <td>842029A1</td>\n",
              "      <td>Chains</td>\n",
              "      <td>Obladaet</td>\n",
              "      <td>rusrap</td>\n",
              "      <td>Shelbyville</td>\n",
              "      <td>13:09:41</td>\n",
              "      <td>Friday</td>\n",
              "    </tr>\n",
              "    <tr>\n",
              "      <th>6</th>\n",
              "      <td>4CB90AA5</td>\n",
              "      <td>True</td>\n",
              "      <td>Roman Messer</td>\n",
              "      <td>dance</td>\n",
              "      <td>Springfield</td>\n",
              "      <td>13:00:07</td>\n",
              "      <td>Wednesday</td>\n",
              "    </tr>\n",
              "    <tr>\n",
              "      <th>7</th>\n",
              "      <td>F03E1C1F</td>\n",
              "      <td>Feeling This Way</td>\n",
              "      <td>Polina Griffith</td>\n",
              "      <td>dance</td>\n",
              "      <td>Springfield</td>\n",
              "      <td>20:47:49</td>\n",
              "      <td>Wednesday</td>\n",
              "    </tr>\n",
              "    <tr>\n",
              "      <th>8</th>\n",
              "      <td>8FA1D3BE</td>\n",
              "      <td>L’estate</td>\n",
              "      <td>Julia Dalia</td>\n",
              "      <td>ruspop</td>\n",
              "      <td>Springfield</td>\n",
              "      <td>09:17:40</td>\n",
              "      <td>Friday</td>\n",
              "    </tr>\n",
              "    <tr>\n",
              "      <th>9</th>\n",
              "      <td>E772D5C0</td>\n",
              "      <td>Pessimist</td>\n",
              "      <td>NaN</td>\n",
              "      <td>dance</td>\n",
              "      <td>Shelbyville</td>\n",
              "      <td>21:20:49</td>\n",
              "      <td>Wednesday</td>\n",
              "    </tr>\n",
              "  </tbody>\n",
              "</table>\n",
              "</div>\n",
              "    <div class=\"colab-df-buttons\">\n",
              "\n",
              "  <div class=\"colab-df-container\">\n",
              "    <button class=\"colab-df-convert\" onclick=\"convertToInteractive('df-acde0893-1750-4d22-9da6-c73c6d7e6de1')\"\n",
              "            title=\"Convert this dataframe to an interactive table.\"\n",
              "            style=\"display:none;\">\n",
              "\n",
              "  <svg xmlns=\"http://www.w3.org/2000/svg\" height=\"24px\" viewBox=\"0 -960 960 960\">\n",
              "    <path d=\"M120-120v-720h720v720H120Zm60-500h600v-160H180v160Zm220 220h160v-160H400v160Zm0 220h160v-160H400v160ZM180-400h160v-160H180v160Zm440 0h160v-160H620v160ZM180-180h160v-160H180v160Zm440 0h160v-160H620v160Z\"/>\n",
              "  </svg>\n",
              "    </button>\n",
              "\n",
              "  <style>\n",
              "    .colab-df-container {\n",
              "      display:flex;\n",
              "      gap: 12px;\n",
              "    }\n",
              "\n",
              "    .colab-df-convert {\n",
              "      background-color: #E8F0FE;\n",
              "      border: none;\n",
              "      border-radius: 50%;\n",
              "      cursor: pointer;\n",
              "      display: none;\n",
              "      fill: #1967D2;\n",
              "      height: 32px;\n",
              "      padding: 0 0 0 0;\n",
              "      width: 32px;\n",
              "    }\n",
              "\n",
              "    .colab-df-convert:hover {\n",
              "      background-color: #E2EBFA;\n",
              "      box-shadow: 0px 1px 2px rgba(60, 64, 67, 0.3), 0px 1px 3px 1px rgba(60, 64, 67, 0.15);\n",
              "      fill: #174EA6;\n",
              "    }\n",
              "\n",
              "    .colab-df-buttons div {\n",
              "      margin-bottom: 4px;\n",
              "    }\n",
              "\n",
              "    [theme=dark] .colab-df-convert {\n",
              "      background-color: #3B4455;\n",
              "      fill: #D2E3FC;\n",
              "    }\n",
              "\n",
              "    [theme=dark] .colab-df-convert:hover {\n",
              "      background-color: #434B5C;\n",
              "      box-shadow: 0px 1px 3px 1px rgba(0, 0, 0, 0.15);\n",
              "      filter: drop-shadow(0px 1px 2px rgba(0, 0, 0, 0.3));\n",
              "      fill: #FFFFFF;\n",
              "    }\n",
              "  </style>\n",
              "\n",
              "    <script>\n",
              "      const buttonEl =\n",
              "        document.querySelector('#df-acde0893-1750-4d22-9da6-c73c6d7e6de1 button.colab-df-convert');\n",
              "      buttonEl.style.display =\n",
              "        google.colab.kernel.accessAllowed ? 'block' : 'none';\n",
              "\n",
              "      async function convertToInteractive(key) {\n",
              "        const element = document.querySelector('#df-acde0893-1750-4d22-9da6-c73c6d7e6de1');\n",
              "        const dataTable =\n",
              "          await google.colab.kernel.invokeFunction('convertToInteractive',\n",
              "                                                    [key], {});\n",
              "        if (!dataTable) return;\n",
              "\n",
              "        const docLinkHtml = 'Like what you see? Visit the ' +\n",
              "          '<a target=\"_blank\" href=https://colab.research.google.com/notebooks/data_table.ipynb>data table notebook</a>'\n",
              "          + ' to learn more about interactive tables.';\n",
              "        element.innerHTML = '';\n",
              "        dataTable['output_type'] = 'display_data';\n",
              "        await google.colab.output.renderOutput(dataTable, element);\n",
              "        const docLink = document.createElement('div');\n",
              "        docLink.innerHTML = docLinkHtml;\n",
              "        element.appendChild(docLink);\n",
              "      }\n",
              "    </script>\n",
              "  </div>\n",
              "\n",
              "\n",
              "<div id=\"df-d4437bf2-74c0-4476-827e-dbe9ac8408bd\">\n",
              "  <button class=\"colab-df-quickchart\" onclick=\"quickchart('df-d4437bf2-74c0-4476-827e-dbe9ac8408bd')\"\n",
              "            title=\"Suggest charts\"\n",
              "            style=\"display:none;\">\n",
              "\n",
              "<svg xmlns=\"http://www.w3.org/2000/svg\" height=\"24px\"viewBox=\"0 0 24 24\"\n",
              "     width=\"24px\">\n",
              "    <g>\n",
              "        <path d=\"M19 3H5c-1.1 0-2 .9-2 2v14c0 1.1.9 2 2 2h14c1.1 0 2-.9 2-2V5c0-1.1-.9-2-2-2zM9 17H7v-7h2v7zm4 0h-2V7h2v10zm4 0h-2v-4h2v4z\"/>\n",
              "    </g>\n",
              "</svg>\n",
              "  </button>\n",
              "\n",
              "<style>\n",
              "  .colab-df-quickchart {\n",
              "      --bg-color: #E8F0FE;\n",
              "      --fill-color: #1967D2;\n",
              "      --hover-bg-color: #E2EBFA;\n",
              "      --hover-fill-color: #174EA6;\n",
              "      --disabled-fill-color: #AAA;\n",
              "      --disabled-bg-color: #DDD;\n",
              "  }\n",
              "\n",
              "  [theme=dark] .colab-df-quickchart {\n",
              "      --bg-color: #3B4455;\n",
              "      --fill-color: #D2E3FC;\n",
              "      --hover-bg-color: #434B5C;\n",
              "      --hover-fill-color: #FFFFFF;\n",
              "      --disabled-bg-color: #3B4455;\n",
              "      --disabled-fill-color: #666;\n",
              "  }\n",
              "\n",
              "  .colab-df-quickchart {\n",
              "    background-color: var(--bg-color);\n",
              "    border: none;\n",
              "    border-radius: 50%;\n",
              "    cursor: pointer;\n",
              "    display: none;\n",
              "    fill: var(--fill-color);\n",
              "    height: 32px;\n",
              "    padding: 0;\n",
              "    width: 32px;\n",
              "  }\n",
              "\n",
              "  .colab-df-quickchart:hover {\n",
              "    background-color: var(--hover-bg-color);\n",
              "    box-shadow: 0 1px 2px rgba(60, 64, 67, 0.3), 0 1px 3px 1px rgba(60, 64, 67, 0.15);\n",
              "    fill: var(--button-hover-fill-color);\n",
              "  }\n",
              "\n",
              "  .colab-df-quickchart-complete:disabled,\n",
              "  .colab-df-quickchart-complete:disabled:hover {\n",
              "    background-color: var(--disabled-bg-color);\n",
              "    fill: var(--disabled-fill-color);\n",
              "    box-shadow: none;\n",
              "  }\n",
              "\n",
              "  .colab-df-spinner {\n",
              "    border: 2px solid var(--fill-color);\n",
              "    border-color: transparent;\n",
              "    border-bottom-color: var(--fill-color);\n",
              "    animation:\n",
              "      spin 1s steps(1) infinite;\n",
              "  }\n",
              "\n",
              "  @keyframes spin {\n",
              "    0% {\n",
              "      border-color: transparent;\n",
              "      border-bottom-color: var(--fill-color);\n",
              "      border-left-color: var(--fill-color);\n",
              "    }\n",
              "    20% {\n",
              "      border-color: transparent;\n",
              "      border-left-color: var(--fill-color);\n",
              "      border-top-color: var(--fill-color);\n",
              "    }\n",
              "    30% {\n",
              "      border-color: transparent;\n",
              "      border-left-color: var(--fill-color);\n",
              "      border-top-color: var(--fill-color);\n",
              "      border-right-color: var(--fill-color);\n",
              "    }\n",
              "    40% {\n",
              "      border-color: transparent;\n",
              "      border-right-color: var(--fill-color);\n",
              "      border-top-color: var(--fill-color);\n",
              "    }\n",
              "    60% {\n",
              "      border-color: transparent;\n",
              "      border-right-color: var(--fill-color);\n",
              "    }\n",
              "    80% {\n",
              "      border-color: transparent;\n",
              "      border-right-color: var(--fill-color);\n",
              "      border-bottom-color: var(--fill-color);\n",
              "    }\n",
              "    90% {\n",
              "      border-color: transparent;\n",
              "      border-bottom-color: var(--fill-color);\n",
              "    }\n",
              "  }\n",
              "</style>\n",
              "\n",
              "  <script>\n",
              "    async function quickchart(key) {\n",
              "      const quickchartButtonEl =\n",
              "        document.querySelector('#' + key + ' button');\n",
              "      quickchartButtonEl.disabled = true;  // To prevent multiple clicks.\n",
              "      quickchartButtonEl.classList.add('colab-df-spinner');\n",
              "      try {\n",
              "        const charts = await google.colab.kernel.invokeFunction(\n",
              "            'suggestCharts', [key], {});\n",
              "      } catch (error) {\n",
              "        console.error('Error during call to suggestCharts:', error);\n",
              "      }\n",
              "      quickchartButtonEl.classList.remove('colab-df-spinner');\n",
              "      quickchartButtonEl.classList.add('colab-df-quickchart-complete');\n",
              "    }\n",
              "    (() => {\n",
              "      let quickchartButtonEl =\n",
              "        document.querySelector('#df-d4437bf2-74c0-4476-827e-dbe9ac8408bd button');\n",
              "      quickchartButtonEl.style.display =\n",
              "        google.colab.kernel.accessAllowed ? 'block' : 'none';\n",
              "    })();\n",
              "  </script>\n",
              "</div>\n",
              "    </div>\n",
              "  </div>\n"
            ]
          },
          "metadata": {},
          "execution_count": 4
        }
      ],
      "source": [
        "# menampilkan 10 baris pertama\n",
        "df.head(10)"
      ]
    },
    {
      "cell_type": "code",
      "execution_count": null,
      "metadata": {
        "id": "T6RkHna3NU1l",
        "outputId": "900e813a-cfa6-4418-f689-9e1cb02f6a47",
        "colab": {
          "base_uri": "https://localhost:8080/"
        }
      },
      "outputs": [
        {
          "output_type": "stream",
          "name": "stdout",
          "text": [
            "<class 'pandas.core.frame.DataFrame'>\n",
            "RangeIndex: 65079 entries, 0 to 65078\n",
            "Data columns (total 7 columns):\n",
            " #   Column    Non-Null Count  Dtype \n",
            "---  ------    --------------  ----- \n",
            " 0     userID  65079 non-null  object\n",
            " 1   Track     63736 non-null  object\n",
            " 2   artist    57512 non-null  object\n",
            " 3   genre     63881 non-null  object\n",
            " 4     City    65079 non-null  object\n",
            " 5   time      65079 non-null  object\n",
            " 6   Day       65079 non-null  object\n",
            "dtypes: object(7)\n",
            "memory usage: 3.5+ MB\n"
          ]
        }
      ],
      "source": [
        "# informasi umum dari data\n",
        "df.info()"
      ]
    },
    {
      "cell_type": "markdown",
      "metadata": {
        "id": "TaQ2Iwbr_Zct"
      },
      "source": [
        "Tabel ini berisi tujuh kolom. Semuanya menyimpan tipe data yang sama, yaitu: `object`.\n",
        "\n",
        "Berdasarkan dokumentasi:\n",
        "- `'userID'` — pengenal pengguna\n",
        "- `'Track'` — judul trek\n",
        "- `'artist'` — nama artis\n",
        "- `'genre'`\n",
        "- `'City'` — kota tempat pengguna berada\n",
        "- `'time'` — lama waktu lagu tersebut dimainkan\n",
        "- `'Day'` — nama hari\n",
        "\n",
        "Kita dapat melihat tiga masalah dengan gaya penulisan nama kolom:\n",
        "1. Beberapa nama kolom diawali huruf besar, beberapa diawali huruf kecil.\n",
        "2. Ada penggunaan spasi pada kolom `userID` dan `City`.\n",
        "3. Gaya penulisan *camel case*.\n",
        "\n",
        "Jumlah nilai kolom berbeda. Ini berarti data mengandung nilai yang hilang."
      ]
    },
    {
      "cell_type": "markdown",
      "metadata": {
        "id": "MCB6-dXG_Zct"
      },
      "source": [
        "### Kesimpulan <a id='data_review_conclusions'></a>\n",
        "\n",
        "Setiap baris dalam tabel menyimpan data pada judul lagu yang diputar. Beberapa kolom menggambarkan lagu itu sendiri: judul lagu, *artist*, dan *genre*. Sisanya menyampaikan informasi tentang pengguna: kota asal mereka, waktu mereka memutar lagu.\n",
        "\n",
        "Jelas bahwa data tersebut cukup untuk menguji hipotesis. Namun, ada nilai-nilai yang hilang.\n",
        "\n",
        "Selanjutnya, kita perlu melakukan pra-pemrosesan data terlebih dahulu."
      ]
    },
    {
      "cell_type": "markdown",
      "metadata": {
        "id": "SjYF6Ub9_Zct"
      },
      "source": [
        "## Tahap 2. Pra-pemrosesan Data <a id='data_preprocessing'></a>"
      ]
    },
    {
      "cell_type": "markdown",
      "metadata": {
        "id": "dIaKXr29_Zct"
      },
      "source": [
        "### Gaya Penulisan Judul <a id='header_style'></a>\n"
      ]
    },
    {
      "cell_type": "code",
      "execution_count": null,
      "metadata": {
        "id": "7UozCb6BNU1n",
        "outputId": "0a4d0259-572a-4041-ed68-803336403820",
        "colab": {
          "base_uri": "https://localhost:8080/"
        }
      },
      "outputs": [
        {
          "output_type": "execute_result",
          "data": {
            "text/plain": [
              "Index(['  userID', 'Track', 'artist', 'genre', '  City  ', 'time', 'Day'], dtype='object')"
            ]
          },
          "metadata": {},
          "execution_count": 6
        }
      ],
      "source": [
        "# daftar nama kolom di tabel df\n",
        "df.columns"
      ]
    },
    {
      "cell_type": "markdown",
      "metadata": {
        "id": "zj5534cv_Zct"
      },
      "source": [
        "Dapat kita lihat di atas kolom `userID` memiliki spasi di depan dan kolom `City` memiliki spasi di depan dan belakang. Dua nama kolom tersebut akan kita ganti agar spasinya hilang untuk memudahkan proses analisis ke depannya."
      ]
    },
    {
      "cell_type": "code",
      "execution_count": 4,
      "metadata": {
        "id": "hLy4m2rXNU1o"
      },
      "outputs": [],
      "source": [
        "# mengganti nama kolom\n",
        "df = df.rename(columns={\n",
        "    '  userID': 'user_id',\n",
        "    'Track': 'track',\n",
        "    '  City  ': 'city',\n",
        "    'Day': 'day'\n",
        "})"
      ]
    },
    {
      "cell_type": "code",
      "execution_count": 5,
      "metadata": {
        "id": "KujQE6KgNU1p",
        "outputId": "59b6eb13-3e91-4d32-bd16-99f083b9b210",
        "colab": {
          "base_uri": "https://localhost:8080/"
        }
      },
      "outputs": [
        {
          "output_type": "execute_result",
          "data": {
            "text/plain": [
              "Index(['user_id', 'track', 'artist', 'genre', 'city', 'time', 'day'], dtype='object')"
            ]
          },
          "metadata": {},
          "execution_count": 5
        }
      ],
      "source": [
        "# memeriksa kembali nama kolom\n",
        "df.columns"
      ]
    },
    {
      "cell_type": "markdown",
      "source": [
        "Semua nama kolom sudah ditulis dengan huruf kecil semua."
      ],
      "metadata": {
        "id": "1cA6D9ADiXAE"
      }
    },
    {
      "cell_type": "markdown",
      "metadata": {
        "id": "5ISfbcfY_Zct"
      },
      "source": [
        "### Nilai-Nilai yang Hilang <a id='missing_values'></a>"
      ]
    },
    {
      "cell_type": "code",
      "execution_count": null,
      "metadata": {
        "id": "YjV7TDS3NU11",
        "outputId": "85d0c958-c347-4718-b3f7-b9f20852efdf",
        "colab": {
          "base_uri": "https://localhost:8080/"
        }
      },
      "outputs": [
        {
          "output_type": "execute_result",
          "data": {
            "text/plain": [
              "user_id       0\n",
              "track      1343\n",
              "artist     7567\n",
              "genre      1198\n",
              "city          0\n",
              "time          0\n",
              "day           0\n",
              "dtype: int64"
            ]
          },
          "metadata": {},
          "execution_count": 10
        }
      ],
      "source": [
        "# menampilkan jumlah nilai yang hilang\n",
        "df.isna().sum()"
      ]
    },
    {
      "cell_type": "markdown",
      "metadata": {
        "id": "fSv2laPA_Zct"
      },
      "source": [
        "Nilai yang hilang pada `'track'`, `'artist'`, dan `'genre'` akan diganti dengan string `'unknown'`."
      ]
    },
    {
      "cell_type": "code",
      "execution_count": 7,
      "metadata": {
        "id": "kq_vTfj2NU12"
      },
      "outputs": [],
      "source": [
        "# mengganti nilai yang hilang pada kolom track, artist dan genre dengan unknown\n",
        "columns_to_replace = ['track', 'artist', 'genre']\n",
        "\n",
        "for columns in columns_to_replace:\n",
        "    df[columns]=df[columns].fillna('unknown')"
      ]
    },
    {
      "cell_type": "code",
      "execution_count": 8,
      "metadata": {
        "id": "ly5HDd85NU13",
        "outputId": "f5895a48-5b67-4d78-d455-18359ec921b0",
        "colab": {
          "base_uri": "https://localhost:8080/"
        }
      },
      "outputs": [
        {
          "output_type": "execute_result",
          "data": {
            "text/plain": [
              "user_id    0\n",
              "track      0\n",
              "artist     0\n",
              "genre      0\n",
              "city       0\n",
              "time       0\n",
              "day        0\n",
              "dtype: int64"
            ]
          },
          "metadata": {},
          "execution_count": 8
        }
      ],
      "source": [
        "# menampilkan jumlah nilai yang hilang\n",
        "df.isna().sum()"
      ]
    },
    {
      "cell_type": "markdown",
      "source": [
        "Sudah tidak ada lagi nilai pada kolom `track`, `artist` dan `genre` yang hilang."
      ],
      "metadata": {
        "id": "pRXuPadsgHik"
      }
    },
    {
      "cell_type": "markdown",
      "metadata": {
        "id": "BWKRtBJ3_Zct"
      },
      "source": [
        "### Membersihkan Duplikat <a id='duplicates'></a>"
      ]
    },
    {
      "cell_type": "markdown",
      "source": [
        "#### Duplikat Eksplisit"
      ],
      "metadata": {
        "id": "q-Ee5PGwhFek"
      }
    },
    {
      "cell_type": "code",
      "execution_count": null,
      "metadata": {
        "scrolled": true,
        "id": "bweEsZlINU14",
        "outputId": "9c60d402-eefe-4a90-9593-196add0988c8",
        "colab": {
          "base_uri": "https://localhost:8080/"
        }
      },
      "outputs": [
        {
          "output_type": "execute_result",
          "data": {
            "text/plain": [
              "3826"
            ]
          },
          "metadata": {},
          "execution_count": 13
        }
      ],
      "source": [
        "# menampilkan data duplikat\n",
        "df.duplicated().sum()"
      ]
    },
    {
      "cell_type": "markdown",
      "source": [
        "Terdapat 3.826 baris data duplikat. Data duplikat tersebut akan kita hapus."
      ],
      "metadata": {
        "id": "QqxIo8FsgcuY"
      }
    },
    {
      "cell_type": "code",
      "execution_count": 9,
      "metadata": {
        "id": "rubE0tOcNU15"
      },
      "outputs": [],
      "source": [
        "# mengapus duplikat\n",
        "df=df.drop_duplicates().reset_index(drop=True)"
      ]
    },
    {
      "cell_type": "code",
      "execution_count": 10,
      "metadata": {
        "id": "aHDSNePJNU16",
        "outputId": "62f45688-279d-4755-dfb2-e832a46db114",
        "colab": {
          "base_uri": "https://localhost:8080/"
        }
      },
      "outputs": [
        {
          "output_type": "execute_result",
          "data": {
            "text/plain": [
              "0"
            ]
          },
          "metadata": {},
          "execution_count": 10
        }
      ],
      "source": [
        "# menampilkan jumlah data duplikat\n",
        "df.duplicated().sum()"
      ]
    },
    {
      "cell_type": "markdown",
      "metadata": {
        "id": "QlFBsxAr_Zct"
      },
      "source": [
        "Sudah tidak ada lagi data duplikat."
      ]
    },
    {
      "cell_type": "markdown",
      "source": [
        "#### Nilai Duplikat pada kolom `genre` (duplikat implisit)."
      ],
      "metadata": {
        "id": "QDwObRiYhMPB"
      }
    },
    {
      "cell_type": "code",
      "execution_count": null,
      "metadata": {
        "id": "Md6DK7tkNU17",
        "outputId": "6f2a3bba-ed9c-42f6-f52b-962c6d0985a3",
        "colab": {
          "base_uri": "https://localhost:8080/"
        }
      },
      "outputs": [
        {
          "output_type": "execute_result",
          "data": {
            "text/plain": [
              "['acid',\n",
              " 'acoustic',\n",
              " 'action',\n",
              " 'adult',\n",
              " 'africa',\n",
              " 'afrikaans',\n",
              " 'alternative',\n",
              " 'ambient',\n",
              " 'americana',\n",
              " 'animated',\n",
              " 'anime',\n",
              " 'arabesk',\n",
              " 'arabic',\n",
              " 'arena',\n",
              " 'argentinetango',\n",
              " 'art',\n",
              " 'audiobook',\n",
              " 'avantgarde',\n",
              " 'axé',\n",
              " 'baile',\n",
              " 'balkan',\n",
              " 'beats',\n",
              " 'bigroom',\n",
              " 'black',\n",
              " 'bluegrass',\n",
              " 'blues',\n",
              " 'bollywood',\n",
              " 'bossa',\n",
              " 'brazilian',\n",
              " 'breakbeat',\n",
              " 'breaks',\n",
              " 'broadway',\n",
              " 'cantautori',\n",
              " 'cantopop',\n",
              " 'canzone',\n",
              " 'caribbean',\n",
              " 'caucasian',\n",
              " 'celtic',\n",
              " 'chamber',\n",
              " 'children',\n",
              " 'chill',\n",
              " 'chinese',\n",
              " 'choral',\n",
              " 'christian',\n",
              " 'christmas',\n",
              " 'classical',\n",
              " 'classicmetal',\n",
              " 'club',\n",
              " 'colombian',\n",
              " 'comedy',\n",
              " 'conjazz',\n",
              " 'contemporary',\n",
              " 'country',\n",
              " 'cuban',\n",
              " 'dance',\n",
              " 'dancehall',\n",
              " 'dancepop',\n",
              " 'dark',\n",
              " 'death',\n",
              " 'deep',\n",
              " 'deutschrock',\n",
              " 'deutschspr',\n",
              " 'dirty',\n",
              " 'disco',\n",
              " 'dnb',\n",
              " 'documentary',\n",
              " 'downbeat',\n",
              " 'downtempo',\n",
              " 'drum',\n",
              " 'dub',\n",
              " 'dubstep',\n",
              " 'eastern',\n",
              " 'easy',\n",
              " 'electronic',\n",
              " 'electropop',\n",
              " 'emo',\n",
              " 'entehno',\n",
              " 'epicmetal',\n",
              " 'estrada',\n",
              " 'ethnic',\n",
              " 'eurofolk',\n",
              " 'european',\n",
              " 'experimental',\n",
              " 'extrememetal',\n",
              " 'fado',\n",
              " 'film',\n",
              " 'fitness',\n",
              " 'flamenco',\n",
              " 'folk',\n",
              " 'folklore',\n",
              " 'folkmetal',\n",
              " 'folkrock',\n",
              " 'folktronica',\n",
              " 'forró',\n",
              " 'frankreich',\n",
              " 'französisch',\n",
              " 'french',\n",
              " 'funk',\n",
              " 'future',\n",
              " 'gangsta',\n",
              " 'garage',\n",
              " 'german',\n",
              " 'ghazal',\n",
              " 'gitarre',\n",
              " 'glitch',\n",
              " 'gospel',\n",
              " 'gothic',\n",
              " 'grime',\n",
              " 'grunge',\n",
              " 'gypsy',\n",
              " 'handsup',\n",
              " \"hard'n'heavy\",\n",
              " 'hardcore',\n",
              " 'hardstyle',\n",
              " 'hardtechno',\n",
              " 'hip',\n",
              " 'hip-hop',\n",
              " 'hiphop',\n",
              " 'historisch',\n",
              " 'holiday',\n",
              " 'hop',\n",
              " 'horror',\n",
              " 'house',\n",
              " 'idm',\n",
              " 'independent',\n",
              " 'indian',\n",
              " 'indie',\n",
              " 'indipop',\n",
              " 'industrial',\n",
              " 'inspirational',\n",
              " 'instrumental',\n",
              " 'international',\n",
              " 'irish',\n",
              " 'jam',\n",
              " 'japanese',\n",
              " 'jazz',\n",
              " 'jewish',\n",
              " 'jpop',\n",
              " 'jungle',\n",
              " 'k-pop',\n",
              " 'karadeniz',\n",
              " 'karaoke',\n",
              " 'kayokyoku',\n",
              " 'korean',\n",
              " 'laiko',\n",
              " 'latin',\n",
              " 'latino',\n",
              " 'leftfield',\n",
              " 'local',\n",
              " 'lounge',\n",
              " 'loungeelectronic',\n",
              " 'lovers',\n",
              " 'malaysian',\n",
              " 'mandopop',\n",
              " 'marschmusik',\n",
              " 'meditative',\n",
              " 'mediterranean',\n",
              " 'melodic',\n",
              " 'metal',\n",
              " 'metalcore',\n",
              " 'mexican',\n",
              " 'middle',\n",
              " 'minimal',\n",
              " 'miscellaneous',\n",
              " 'modern',\n",
              " 'mood',\n",
              " 'mpb',\n",
              " 'muslim',\n",
              " 'native',\n",
              " 'neoklassik',\n",
              " 'neue',\n",
              " 'new',\n",
              " 'newage',\n",
              " 'newwave',\n",
              " 'nu',\n",
              " 'nujazz',\n",
              " 'numetal',\n",
              " 'oceania',\n",
              " 'old',\n",
              " 'opera',\n",
              " 'orchestral',\n",
              " 'other',\n",
              " 'piano',\n",
              " 'pop',\n",
              " 'popelectronic',\n",
              " 'popeurodance',\n",
              " 'post',\n",
              " 'posthardcore',\n",
              " 'postrock',\n",
              " 'power',\n",
              " 'progmetal',\n",
              " 'progressive',\n",
              " 'psychedelic',\n",
              " 'punjabi',\n",
              " 'punk',\n",
              " 'quebecois',\n",
              " 'ragga',\n",
              " 'ram',\n",
              " 'rancheras',\n",
              " 'rap',\n",
              " 'rave',\n",
              " 'reggae',\n",
              " 'reggaeton',\n",
              " 'regional',\n",
              " 'relax',\n",
              " 'religious',\n",
              " 'retro',\n",
              " 'rhythm',\n",
              " 'rnb',\n",
              " 'rnr',\n",
              " 'rock',\n",
              " 'rockabilly',\n",
              " 'romance',\n",
              " 'roots',\n",
              " 'ruspop',\n",
              " 'rusrap',\n",
              " 'rusrock',\n",
              " 'salsa',\n",
              " 'samba',\n",
              " 'schlager',\n",
              " 'self',\n",
              " 'sertanejo',\n",
              " 'shoegazing',\n",
              " 'showtunes',\n",
              " 'singer',\n",
              " 'ska',\n",
              " 'slow',\n",
              " 'smooth',\n",
              " 'soul',\n",
              " 'soulful',\n",
              " 'sound',\n",
              " 'soundtrack',\n",
              " 'southern',\n",
              " 'specialty',\n",
              " 'speech',\n",
              " 'spiritual',\n",
              " 'sport',\n",
              " 'stonerrock',\n",
              " 'surf',\n",
              " 'swing',\n",
              " 'synthpop',\n",
              " 'sängerportrait',\n",
              " 'tango',\n",
              " 'tanzorchester',\n",
              " 'taraftar',\n",
              " 'tech',\n",
              " 'techno',\n",
              " 'thrash',\n",
              " 'top',\n",
              " 'traditional',\n",
              " 'tradjazz',\n",
              " 'trance',\n",
              " 'tribal',\n",
              " 'trip',\n",
              " 'triphop',\n",
              " 'tropical',\n",
              " 'türk',\n",
              " 'türkçe',\n",
              " 'unknown',\n",
              " 'urban',\n",
              " 'uzbek',\n",
              " 'variété',\n",
              " 'vi',\n",
              " 'videogame',\n",
              " 'vocal',\n",
              " 'western',\n",
              " 'world',\n",
              " 'worldbeat',\n",
              " 'ïîï']"
            ]
          },
          "metadata": {},
          "execution_count": 16
        }
      ],
      "source": [
        "# memeriksa nilai pada kolom genre\n",
        "sorted(df['genre'].unique())"
      ]
    },
    {
      "cell_type": "markdown",
      "metadata": {
        "id": "qej-Qmuo_Zct"
      },
      "source": [
        "Terdapat data duplikat berupa:\n",
        "* `hip`\n",
        "* `hop`\n",
        "* `hip-hop`\n",
        "\n",
        "`hip`, `hop` dan `hip-hop` harusnya ditulis dengan `hiphop`, maka akan kita ganti menjadi `hiphop`."
      ]
    },
    {
      "cell_type": "code",
      "source": [
        "len(df.loc[(df['genre']=='hop') | (df['genre']=='hip') | (df['genre']=='hip-hop') | (df['genre']=='hiphop')])"
      ],
      "metadata": {
        "colab": {
          "base_uri": "https://localhost:8080/"
        },
        "id": "9ncn1F0veJ3u",
        "outputId": "de4ac64b-3da2-4465-9102-b4cc7929b9a9"
      },
      "execution_count": 24,
      "outputs": [
        {
          "output_type": "execute_result",
          "data": {
            "text/plain": [
              "3056"
            ]
          },
          "metadata": {},
          "execution_count": 24
        }
      ]
    },
    {
      "cell_type": "markdown",
      "source": [
        "Terdapat total 3.056 baris data yang memiliki nilai `hip`, `hop`, `hip-hop` dan `hiphop` pada kolom `genre`."
      ],
      "metadata": {
        "id": "xu19WtUzfg3z"
      }
    },
    {
      "cell_type": "code",
      "execution_count": 25,
      "metadata": {
        "id": "YazLIt55NU17"
      },
      "outputs": [],
      "source": [
        "# membuat fungsi untuk mengganti nilai pada kolom genre\n",
        "def replace_wrong_genres(wrong_genres, correct_genres):\n",
        "    for wrong_genre in wrong_genres:\n",
        "        df['genre']=df['genre'].replace(wrong_genre, correct_genres)"
      ]
    },
    {
      "cell_type": "code",
      "execution_count": 26,
      "metadata": {
        "id": "YN5i2hpmSo09",
        "scrolled": true
      },
      "outputs": [],
      "source": [
        "# menggunakan fungsi untuk mengganti nilai pada kolom genre\n",
        "duplicates=['hip', 'hop', 'hip-hop']\n",
        "correct_genre='hiphop'\n",
        "replace_wrong_genres(duplicates, correct_genre)"
      ]
    },
    {
      "cell_type": "code",
      "source": [
        "# menampilkan data dengan kondisi nilai genre hanya hiphop\n",
        "df.loc[df['genre']=='hiphop']"
      ],
      "metadata": {
        "colab": {
          "base_uri": "https://localhost:8080/",
          "height": 423
        },
        "id": "4x5N2rZrk2K5",
        "outputId": "0f23653e-cb74-45f5-963f-289537d773c1"
      },
      "execution_count": 27,
      "outputs": [
        {
          "output_type": "execute_result",
          "data": {
            "text/plain": [
              "        user_id                                track  \\\n",
              "20     201CF2A8                     Ya'll In Trouble   \n",
              "46     825997A5                     Glorious Feeling   \n",
              "79     1DA07AA4                              Cardi B   \n",
              "81     CCD46819                               Narcos   \n",
              "82       80396F                           Ay Caramba   \n",
              "...         ...                                  ...   \n",
              "61214  C1C4C94D                              Payback   \n",
              "61220  78713DBB          Feels Like Saving The World   \n",
              "61221  CDCAFD62                               Payday   \n",
              "61230  72CB2D36  Yeezy Taught Her (feat. King Louie)   \n",
              "61249  D08D4A55    Maybe One Day (feat. Black Spade)   \n",
              "\n",
              "                                                  artist   genre         city  \\\n",
              "20     Lil Tee Chill Tank Young Buck Brother Mohammed...  hiphop  Springfield   \n",
              "46                                            Joelistics  hiphop  Springfield   \n",
              "79                                             Money Man  hiphop  Shelbyville   \n",
              "81                                              FOrΣvΣrT  hiphop  Shelbyville   \n",
              "82                                   Stay Flee Get Lizzy  hiphop  Springfield   \n",
              "...                                                  ...     ...          ...   \n",
              "61214                                                 Vo  hiphop  Springfield   \n",
              "61220                                         Outlandish  hiphop  Springfield   \n",
              "61221                                           King Hot  hiphop  Shelbyville   \n",
              "61230                                             Josh.k  hiphop  Springfield   \n",
              "61249                                        Blu & Exile  hiphop  Shelbyville   \n",
              "\n",
              "           time        day  \n",
              "20     08:46:03     Monday  \n",
              "46     21:46:34     Friday  \n",
              "79     14:02:14     Monday  \n",
              "81     09:20:38  Wednesday  \n",
              "82     13:15:38     Monday  \n",
              "...         ...        ...  \n",
              "61214  20:07:31     Friday  \n",
              "61220  14:27:55     Friday  \n",
              "61221  14:31:37     Friday  \n",
              "61230  20:34:11     Friday  \n",
              "61249  10:00:00     Monday  \n",
              "\n",
              "[3056 rows x 7 columns]"
            ],
            "text/html": [
              "\n",
              "  <div id=\"df-946d5a0d-2a66-4c64-abaa-5e8bc01bf1af\" class=\"colab-df-container\">\n",
              "    <div>\n",
              "<style scoped>\n",
              "    .dataframe tbody tr th:only-of-type {\n",
              "        vertical-align: middle;\n",
              "    }\n",
              "\n",
              "    .dataframe tbody tr th {\n",
              "        vertical-align: top;\n",
              "    }\n",
              "\n",
              "    .dataframe thead th {\n",
              "        text-align: right;\n",
              "    }\n",
              "</style>\n",
              "<table border=\"1\" class=\"dataframe\">\n",
              "  <thead>\n",
              "    <tr style=\"text-align: right;\">\n",
              "      <th></th>\n",
              "      <th>user_id</th>\n",
              "      <th>track</th>\n",
              "      <th>artist</th>\n",
              "      <th>genre</th>\n",
              "      <th>city</th>\n",
              "      <th>time</th>\n",
              "      <th>day</th>\n",
              "    </tr>\n",
              "  </thead>\n",
              "  <tbody>\n",
              "    <tr>\n",
              "      <th>20</th>\n",
              "      <td>201CF2A8</td>\n",
              "      <td>Ya'll In Trouble</td>\n",
              "      <td>Lil Tee Chill Tank Young Buck Brother Mohammed...</td>\n",
              "      <td>hiphop</td>\n",
              "      <td>Springfield</td>\n",
              "      <td>08:46:03</td>\n",
              "      <td>Monday</td>\n",
              "    </tr>\n",
              "    <tr>\n",
              "      <th>46</th>\n",
              "      <td>825997A5</td>\n",
              "      <td>Glorious Feeling</td>\n",
              "      <td>Joelistics</td>\n",
              "      <td>hiphop</td>\n",
              "      <td>Springfield</td>\n",
              "      <td>21:46:34</td>\n",
              "      <td>Friday</td>\n",
              "    </tr>\n",
              "    <tr>\n",
              "      <th>79</th>\n",
              "      <td>1DA07AA4</td>\n",
              "      <td>Cardi B</td>\n",
              "      <td>Money Man</td>\n",
              "      <td>hiphop</td>\n",
              "      <td>Shelbyville</td>\n",
              "      <td>14:02:14</td>\n",
              "      <td>Monday</td>\n",
              "    </tr>\n",
              "    <tr>\n",
              "      <th>81</th>\n",
              "      <td>CCD46819</td>\n",
              "      <td>Narcos</td>\n",
              "      <td>FOrΣvΣrT</td>\n",
              "      <td>hiphop</td>\n",
              "      <td>Shelbyville</td>\n",
              "      <td>09:20:38</td>\n",
              "      <td>Wednesday</td>\n",
              "    </tr>\n",
              "    <tr>\n",
              "      <th>82</th>\n",
              "      <td>80396F</td>\n",
              "      <td>Ay Caramba</td>\n",
              "      <td>Stay Flee Get Lizzy</td>\n",
              "      <td>hiphop</td>\n",
              "      <td>Springfield</td>\n",
              "      <td>13:15:38</td>\n",
              "      <td>Monday</td>\n",
              "    </tr>\n",
              "    <tr>\n",
              "      <th>...</th>\n",
              "      <td>...</td>\n",
              "      <td>...</td>\n",
              "      <td>...</td>\n",
              "      <td>...</td>\n",
              "      <td>...</td>\n",
              "      <td>...</td>\n",
              "      <td>...</td>\n",
              "    </tr>\n",
              "    <tr>\n",
              "      <th>61214</th>\n",
              "      <td>C1C4C94D</td>\n",
              "      <td>Payback</td>\n",
              "      <td>Vo</td>\n",
              "      <td>hiphop</td>\n",
              "      <td>Springfield</td>\n",
              "      <td>20:07:31</td>\n",
              "      <td>Friday</td>\n",
              "    </tr>\n",
              "    <tr>\n",
              "      <th>61220</th>\n",
              "      <td>78713DBB</td>\n",
              "      <td>Feels Like Saving The World</td>\n",
              "      <td>Outlandish</td>\n",
              "      <td>hiphop</td>\n",
              "      <td>Springfield</td>\n",
              "      <td>14:27:55</td>\n",
              "      <td>Friday</td>\n",
              "    </tr>\n",
              "    <tr>\n",
              "      <th>61221</th>\n",
              "      <td>CDCAFD62</td>\n",
              "      <td>Payday</td>\n",
              "      <td>King Hot</td>\n",
              "      <td>hiphop</td>\n",
              "      <td>Shelbyville</td>\n",
              "      <td>14:31:37</td>\n",
              "      <td>Friday</td>\n",
              "    </tr>\n",
              "    <tr>\n",
              "      <th>61230</th>\n",
              "      <td>72CB2D36</td>\n",
              "      <td>Yeezy Taught Her (feat. King Louie)</td>\n",
              "      <td>Josh.k</td>\n",
              "      <td>hiphop</td>\n",
              "      <td>Springfield</td>\n",
              "      <td>20:34:11</td>\n",
              "      <td>Friday</td>\n",
              "    </tr>\n",
              "    <tr>\n",
              "      <th>61249</th>\n",
              "      <td>D08D4A55</td>\n",
              "      <td>Maybe One Day (feat. Black Spade)</td>\n",
              "      <td>Blu &amp; Exile</td>\n",
              "      <td>hiphop</td>\n",
              "      <td>Shelbyville</td>\n",
              "      <td>10:00:00</td>\n",
              "      <td>Monday</td>\n",
              "    </tr>\n",
              "  </tbody>\n",
              "</table>\n",
              "<p>3056 rows × 7 columns</p>\n",
              "</div>\n",
              "    <div class=\"colab-df-buttons\">\n",
              "\n",
              "  <div class=\"colab-df-container\">\n",
              "    <button class=\"colab-df-convert\" onclick=\"convertToInteractive('df-946d5a0d-2a66-4c64-abaa-5e8bc01bf1af')\"\n",
              "            title=\"Convert this dataframe to an interactive table.\"\n",
              "            style=\"display:none;\">\n",
              "\n",
              "  <svg xmlns=\"http://www.w3.org/2000/svg\" height=\"24px\" viewBox=\"0 -960 960 960\">\n",
              "    <path d=\"M120-120v-720h720v720H120Zm60-500h600v-160H180v160Zm220 220h160v-160H400v160Zm0 220h160v-160H400v160ZM180-400h160v-160H180v160Zm440 0h160v-160H620v160ZM180-180h160v-160H180v160Zm440 0h160v-160H620v160Z\"/>\n",
              "  </svg>\n",
              "    </button>\n",
              "\n",
              "  <style>\n",
              "    .colab-df-container {\n",
              "      display:flex;\n",
              "      gap: 12px;\n",
              "    }\n",
              "\n",
              "    .colab-df-convert {\n",
              "      background-color: #E8F0FE;\n",
              "      border: none;\n",
              "      border-radius: 50%;\n",
              "      cursor: pointer;\n",
              "      display: none;\n",
              "      fill: #1967D2;\n",
              "      height: 32px;\n",
              "      padding: 0 0 0 0;\n",
              "      width: 32px;\n",
              "    }\n",
              "\n",
              "    .colab-df-convert:hover {\n",
              "      background-color: #E2EBFA;\n",
              "      box-shadow: 0px 1px 2px rgba(60, 64, 67, 0.3), 0px 1px 3px 1px rgba(60, 64, 67, 0.15);\n",
              "      fill: #174EA6;\n",
              "    }\n",
              "\n",
              "    .colab-df-buttons div {\n",
              "      margin-bottom: 4px;\n",
              "    }\n",
              "\n",
              "    [theme=dark] .colab-df-convert {\n",
              "      background-color: #3B4455;\n",
              "      fill: #D2E3FC;\n",
              "    }\n",
              "\n",
              "    [theme=dark] .colab-df-convert:hover {\n",
              "      background-color: #434B5C;\n",
              "      box-shadow: 0px 1px 3px 1px rgba(0, 0, 0, 0.15);\n",
              "      filter: drop-shadow(0px 1px 2px rgba(0, 0, 0, 0.3));\n",
              "      fill: #FFFFFF;\n",
              "    }\n",
              "  </style>\n",
              "\n",
              "    <script>\n",
              "      const buttonEl =\n",
              "        document.querySelector('#df-946d5a0d-2a66-4c64-abaa-5e8bc01bf1af button.colab-df-convert');\n",
              "      buttonEl.style.display =\n",
              "        google.colab.kernel.accessAllowed ? 'block' : 'none';\n",
              "\n",
              "      async function convertToInteractive(key) {\n",
              "        const element = document.querySelector('#df-946d5a0d-2a66-4c64-abaa-5e8bc01bf1af');\n",
              "        const dataTable =\n",
              "          await google.colab.kernel.invokeFunction('convertToInteractive',\n",
              "                                                    [key], {});\n",
              "        if (!dataTable) return;\n",
              "\n",
              "        const docLinkHtml = 'Like what you see? Visit the ' +\n",
              "          '<a target=\"_blank\" href=https://colab.research.google.com/notebooks/data_table.ipynb>data table notebook</a>'\n",
              "          + ' to learn more about interactive tables.';\n",
              "        element.innerHTML = '';\n",
              "        dataTable['output_type'] = 'display_data';\n",
              "        await google.colab.output.renderOutput(dataTable, element);\n",
              "        const docLink = document.createElement('div');\n",
              "        docLink.innerHTML = docLinkHtml;\n",
              "        element.appendChild(docLink);\n",
              "      }\n",
              "    </script>\n",
              "  </div>\n",
              "\n",
              "\n",
              "<div id=\"df-644cb4d0-f22c-46b8-89fb-94dad3376985\">\n",
              "  <button class=\"colab-df-quickchart\" onclick=\"quickchart('df-644cb4d0-f22c-46b8-89fb-94dad3376985')\"\n",
              "            title=\"Suggest charts\"\n",
              "            style=\"display:none;\">\n",
              "\n",
              "<svg xmlns=\"http://www.w3.org/2000/svg\" height=\"24px\"viewBox=\"0 0 24 24\"\n",
              "     width=\"24px\">\n",
              "    <g>\n",
              "        <path d=\"M19 3H5c-1.1 0-2 .9-2 2v14c0 1.1.9 2 2 2h14c1.1 0 2-.9 2-2V5c0-1.1-.9-2-2-2zM9 17H7v-7h2v7zm4 0h-2V7h2v10zm4 0h-2v-4h2v4z\"/>\n",
              "    </g>\n",
              "</svg>\n",
              "  </button>\n",
              "\n",
              "<style>\n",
              "  .colab-df-quickchart {\n",
              "      --bg-color: #E8F0FE;\n",
              "      --fill-color: #1967D2;\n",
              "      --hover-bg-color: #E2EBFA;\n",
              "      --hover-fill-color: #174EA6;\n",
              "      --disabled-fill-color: #AAA;\n",
              "      --disabled-bg-color: #DDD;\n",
              "  }\n",
              "\n",
              "  [theme=dark] .colab-df-quickchart {\n",
              "      --bg-color: #3B4455;\n",
              "      --fill-color: #D2E3FC;\n",
              "      --hover-bg-color: #434B5C;\n",
              "      --hover-fill-color: #FFFFFF;\n",
              "      --disabled-bg-color: #3B4455;\n",
              "      --disabled-fill-color: #666;\n",
              "  }\n",
              "\n",
              "  .colab-df-quickchart {\n",
              "    background-color: var(--bg-color);\n",
              "    border: none;\n",
              "    border-radius: 50%;\n",
              "    cursor: pointer;\n",
              "    display: none;\n",
              "    fill: var(--fill-color);\n",
              "    height: 32px;\n",
              "    padding: 0;\n",
              "    width: 32px;\n",
              "  }\n",
              "\n",
              "  .colab-df-quickchart:hover {\n",
              "    background-color: var(--hover-bg-color);\n",
              "    box-shadow: 0 1px 2px rgba(60, 64, 67, 0.3), 0 1px 3px 1px rgba(60, 64, 67, 0.15);\n",
              "    fill: var(--button-hover-fill-color);\n",
              "  }\n",
              "\n",
              "  .colab-df-quickchart-complete:disabled,\n",
              "  .colab-df-quickchart-complete:disabled:hover {\n",
              "    background-color: var(--disabled-bg-color);\n",
              "    fill: var(--disabled-fill-color);\n",
              "    box-shadow: none;\n",
              "  }\n",
              "\n",
              "  .colab-df-spinner {\n",
              "    border: 2px solid var(--fill-color);\n",
              "    border-color: transparent;\n",
              "    border-bottom-color: var(--fill-color);\n",
              "    animation:\n",
              "      spin 1s steps(1) infinite;\n",
              "  }\n",
              "\n",
              "  @keyframes spin {\n",
              "    0% {\n",
              "      border-color: transparent;\n",
              "      border-bottom-color: var(--fill-color);\n",
              "      border-left-color: var(--fill-color);\n",
              "    }\n",
              "    20% {\n",
              "      border-color: transparent;\n",
              "      border-left-color: var(--fill-color);\n",
              "      border-top-color: var(--fill-color);\n",
              "    }\n",
              "    30% {\n",
              "      border-color: transparent;\n",
              "      border-left-color: var(--fill-color);\n",
              "      border-top-color: var(--fill-color);\n",
              "      border-right-color: var(--fill-color);\n",
              "    }\n",
              "    40% {\n",
              "      border-color: transparent;\n",
              "      border-right-color: var(--fill-color);\n",
              "      border-top-color: var(--fill-color);\n",
              "    }\n",
              "    60% {\n",
              "      border-color: transparent;\n",
              "      border-right-color: var(--fill-color);\n",
              "    }\n",
              "    80% {\n",
              "      border-color: transparent;\n",
              "      border-right-color: var(--fill-color);\n",
              "      border-bottom-color: var(--fill-color);\n",
              "    }\n",
              "    90% {\n",
              "      border-color: transparent;\n",
              "      border-bottom-color: var(--fill-color);\n",
              "    }\n",
              "  }\n",
              "</style>\n",
              "\n",
              "  <script>\n",
              "    async function quickchart(key) {\n",
              "      const quickchartButtonEl =\n",
              "        document.querySelector('#' + key + ' button');\n",
              "      quickchartButtonEl.disabled = true;  // To prevent multiple clicks.\n",
              "      quickchartButtonEl.classList.add('colab-df-spinner');\n",
              "      try {\n",
              "        const charts = await google.colab.kernel.invokeFunction(\n",
              "            'suggestCharts', [key], {});\n",
              "      } catch (error) {\n",
              "        console.error('Error during call to suggestCharts:', error);\n",
              "      }\n",
              "      quickchartButtonEl.classList.remove('colab-df-spinner');\n",
              "      quickchartButtonEl.classList.add('colab-df-quickchart-complete');\n",
              "    }\n",
              "    (() => {\n",
              "      let quickchartButtonEl =\n",
              "        document.querySelector('#df-644cb4d0-f22c-46b8-89fb-94dad3376985 button');\n",
              "      quickchartButtonEl.style.display =\n",
              "        google.colab.kernel.accessAllowed ? 'block' : 'none';\n",
              "    })();\n",
              "  </script>\n",
              "</div>\n",
              "    </div>\n",
              "  </div>\n"
            ]
          },
          "metadata": {},
          "execution_count": 27
        }
      ]
    },
    {
      "cell_type": "markdown",
      "source": [
        "Terdapat 3.056 baris data dengan nilai `hiphop` pada kolom `genre`, sama seperti kondisi awal. Artinya, semua nilainya sudah menjadi `hiphop`, tidak ada yang `hip`, `hop` atau `hip-hop`."
      ],
      "metadata": {
        "id": "bTzj_pqAmOy-"
      }
    },
    {
      "cell_type": "markdown",
      "metadata": {
        "id": "jz6a9-7HQUDd"
      },
      "source": [
        "### Kesimpulan <a id='data_preprocessing_conclusions'></a>\n",
        "Kita mendeteksi tiga masalah dengan data:\n",
        "\n",
        "- Gaya penulisan judul yang salah\n",
        "- Nilai-nilai yang hilang\n",
        "- Duplikat eksplisit dan implisit\n",
        "\n",
        "Judulnya pun sekarang telah dibersihkan untuk mempermudah pemrosesan tabel.\n",
        "Semua nilai yang hilang telah diganti dengan `'unknown'`. Nilai duplikat eksplisit sudah kita *drop*. Nilai duplikat implisit pada kolom `genre` juga sudah kita ganti.\n",
        "\n",
        "Tidak adanya duplikat akan membuat hasil lebih tepat dan lebih mudah dipahami.\n",
        "\n",
        "Sekarang kita dapat melanjutkan ke pengujian hipotesis."
      ]
    },
    {
      "cell_type": "markdown",
      "metadata": {
        "id": "WttZHXH0SqKk"
      },
      "source": [
        "## Tahap 3. Menguji Hipotesis <a id='hypotheses'></a>"
      ]
    },
    {
      "cell_type": "markdown",
      "metadata": {
        "id": "Im936VVi_Zcu"
      },
      "source": [
        "### Hipotesis 1: Membandingkan Perilaku Pengguna di Dua Kota <a id='activity'></a>"
      ]
    },
    {
      "cell_type": "markdown",
      "metadata": {
        "id": "nwt_MuaL_Zcu"
      },
      "source": [
        "Hipotesis pertama:\n",
        "- pengguna dari Springfield dan Shelbyville memiliki perbedaan perilaku dalam mendengarkan musik."
      ]
    },
    {
      "cell_type": "code",
      "execution_count": null,
      "metadata": {
        "scrolled": true,
        "id": "Cx-ND5PrNU1_",
        "outputId": "f6582905-b30c-45f9-d70f-15a53b49def6"
      },
      "outputs": [
        {
          "data": {
            "text/plain": [
              "city\n",
              "Shelbyville    18512\n",
              "Springfield    42741\n",
              "Name: track, dtype: int64"
            ]
          },
          "execution_count": 35,
          "metadata": {},
          "output_type": "execute_result"
        }
      ],
      "source": [
        "# Menghitung lagu yang diputar di setiap kota\n",
        "df.groupby('city')['track'].count()"
      ]
    },
    {
      "cell_type": "markdown",
      "metadata": {
        "id": "dzli3w8o_Zcu"
      },
      "source": [
        "Springfield memiliki lebih banyak lagu yang dimainkan daripada Shelbyville. Namun bukan berarti warga Springfield lebih sering mendengarkan musik. Kota ini lebih besar, dan memiliki lebih banyak pengguna."
      ]
    },
    {
      "cell_type": "code",
      "execution_count": null,
      "metadata": {
        "scrolled": true,
        "id": "3RgE0F9sNU2A",
        "outputId": "adc230e9-9b12-4583-dbdc-ae3c270033c4",
        "colab": {
          "base_uri": "https://localhost:8080/"
        }
      },
      "outputs": [
        {
          "output_type": "execute_result",
          "data": {
            "text/plain": [
              "day\n",
              "Friday       21840\n",
              "Monday       21354\n",
              "Wednesday    18059\n",
              "Name: track, dtype: int64"
            ]
          },
          "metadata": {},
          "execution_count": 32
        }
      ],
      "source": [
        "# Menghitung trek yang diputar pada masing-masing hari\n",
        "df.groupby('day')['track'].count()"
      ]
    },
    {
      "cell_type": "markdown",
      "metadata": {
        "id": "cC2tNrlL_Zcu"
      },
      "source": [
        "Rabu adalah hari paling tenang secara keseluruhan. Tetapi jika kita mempertimbangkan kedua kota secara terpisah, kita mungkin akan memiliki kesimpulan yang berbeda."
      ]
    },
    {
      "cell_type": "code",
      "execution_count": null,
      "metadata": {
        "id": "C60Qfs01NU2E"
      },
      "outputs": [],
      "source": [
        "# membuat fungsi untuk menghitung jumlah lagu yang diputar berdasarkan nama kota dan nama hari\n",
        "def number_tracks(day,city):\n",
        "    track_list = df[df['day'] == day] #melakukan filter hari\n",
        "    track_list = track_list[track_list['city'] == city] #melakukan filter city\n",
        "    track_list_count = track_list['user_id'].count() #melakukan count\n",
        "\n",
        "    return track_list_count"
      ]
    },
    {
      "cell_type": "code",
      "execution_count": null,
      "metadata": {
        "id": "rJcRATNQ_Zcu",
        "outputId": "f85d8881-06b8-4548-c1e7-a7e2723f15b1"
      },
      "outputs": [
        {
          "data": {
            "text/plain": [
              "15740"
            ]
          },
          "execution_count": 40,
          "metadata": {},
          "output_type": "execute_result"
        }
      ],
      "source": [
        "# memanggil fungsi dengan kondisi hari Senin (Monday) di Springfield\n",
        "number_tracks('Monday', 'Springfield') # jumlah lagu yang diputar di Springfield pada hari Senin"
      ]
    },
    {
      "cell_type": "code",
      "execution_count": null,
      "metadata": {
        "id": "hq_ncZ5T_Zcu",
        "outputId": "65cacd48-d1bd-40c5-bf7c-9afb2d7b674f"
      },
      "outputs": [
        {
          "data": {
            "text/plain": [
              "5614"
            ]
          },
          "execution_count": 41,
          "metadata": {},
          "output_type": "execute_result"
        }
      ],
      "source": [
        "# memanggil fungsi dengan kondisi hari Senin (Monday) di Shelbyville\n",
        "number_tracks('Monday', 'Shelbyville') # jumlah lagu yang diputar di Shelbyville pada hari Senin"
      ]
    },
    {
      "cell_type": "code",
      "execution_count": null,
      "metadata": {
        "id": "_NTy2VPU_Zcu",
        "outputId": "11e7fd99-60b4-48fd-9058-0bca4c85acc9"
      },
      "outputs": [
        {
          "data": {
            "text/plain": [
              "11056"
            ]
          },
          "execution_count": 42,
          "metadata": {},
          "output_type": "execute_result"
        }
      ],
      "source": [
        "# memanggil fungsi dengan kondisi hari Rabu (Wednesday) di Springfield\n",
        "number_tracks('Wednesday', 'Springfield') #  jumlah lagu yang diputar di Springfield pada hari Rabu"
      ]
    },
    {
      "cell_type": "code",
      "execution_count": null,
      "metadata": {
        "id": "j2y3TAwo_Zcu",
        "outputId": "9508b839-40fc-4c2e-e3be-1582dd41aeec"
      },
      "outputs": [
        {
          "data": {
            "text/plain": [
              "7003"
            ]
          },
          "execution_count": 43,
          "metadata": {},
          "output_type": "execute_result"
        }
      ],
      "source": [
        "# memanggil fungsi dengan kondisi hari Rabu (Wednesday) di Shelbyville\n",
        "number_tracks('Wednesday', 'Shelbyville') #  jumlah lagu yang diputar di Shelbyville pada hari Rabu"
      ]
    },
    {
      "cell_type": "code",
      "execution_count": null,
      "metadata": {
        "id": "vYDw5u_K_Zcu",
        "outputId": "5379aa94-49bb-4dcc-fbf3-d27d89e68f9c"
      },
      "outputs": [
        {
          "data": {
            "text/plain": [
              "15945"
            ]
          },
          "execution_count": 44,
          "metadata": {},
          "output_type": "execute_result"
        }
      ],
      "source": [
        "# memanggil fungsi dengan kondisi hari Jumat (Friday) di Springfield\n",
        "number_tracks('Friday', 'Springfield') # jumlah lagu yang diputar di Springfield pada hari Jumat"
      ]
    },
    {
      "cell_type": "code",
      "execution_count": null,
      "metadata": {
        "id": "8_yzFtW3_Zcu",
        "outputId": "2f6d692b-3a8d-4448-fa0f-c23770c4dafb"
      },
      "outputs": [
        {
          "data": {
            "text/plain": [
              "5895"
            ]
          },
          "execution_count": 45,
          "metadata": {},
          "output_type": "execute_result"
        }
      ],
      "source": [
        "# memanggil fungsi dengan kondisi hari Jumat (Friday) di Shelbyville\n",
        "number_tracks('Friday', 'Shelbyville') # jumlah lagu yang diputar di Shelbyville pada hari Jumat"
      ]
    },
    {
      "cell_type": "code",
      "execution_count": null,
      "metadata": {
        "id": "APAcLpOr_Zcu",
        "outputId": "f9a96dd9-fec5-4c8a-9a1a-205d5cc33ba6"
      },
      "outputs": [
        {
          "name": "stdout",
          "output_type": "stream",
          "text": [
            "          city  Monday  Wednesday  Friday\n",
            "0  Springfield   15740      11056   15945\n",
            "1  Shelbyville    5614       7003    5895\n"
          ]
        }
      ],
      "source": [
        "# tabel dengan hasil\n",
        "number_tracks= [['Springfield', 15740, 11056, 15945],['Shelbyville',5614, 7003, 5895]]\n",
        "column_filtered=['city', 'Monday', 'Wednesday', 'Friday']\n",
        "print(pd.DataFrame(data=number_tracks, columns=column_filtered))"
      ]
    },
    {
      "cell_type": "markdown",
      "metadata": {
        "id": "-EgPIHYu_Zcu"
      },
      "source": [
        "**Kesimpulan**\n",
        "\n",
        "Hipotesis pertama diterima, karena:\n",
        "\n",
        "- Pada Springfield, jumlah lagu yang diputar mencapai puncaknya pada hari Senin dan Jumat, sedangkan pada hari Rabu terjadi penurunan aktivitas.\n",
        "- Di Shelbyville, sebaliknya, pengguna lebih banyak mendengarkan musik pada hari Rabu, aktivitas pengguna pada hari Senin dan Jumat lebih sedikit."
      ]
    },
    {
      "cell_type": "markdown",
      "metadata": {
        "id": "atZAxtq4_Zcu"
      },
      "source": [
        "### Hipotesis 2: Musik di Awal dan Akhir Minggu <a id='week'></a>"
      ]
    },
    {
      "cell_type": "markdown",
      "metadata": {
        "id": "eXrQqXFH_Zcu"
      },
      "source": [
        "Hipotesis kedua:\n",
        "- pada Senin pagi (7:00-11:00) dan Jumat malam (17:00-23:00), warga Springfield mendengarkan genre yang berbeda dari yang dinikmati warga Shelbyville."
      ]
    },
    {
      "cell_type": "code",
      "execution_count": 30,
      "metadata": {
        "id": "qeaFfM_P_Zcu",
        "outputId": "a3954112-fbdf-4338-84db-0a720cdae019",
        "colab": {
          "base_uri": "https://localhost:8080/",
          "height": 423
        }
      },
      "outputs": [
        {
          "output_type": "execute_result",
          "data": {
            "text/plain": [
              "        user_id                          track                   artist  \\\n",
              "1      55204538    Delayed Because of Accident         Andreas Rönnberg   \n",
              "4      E2DC1FAE                    Soul People               Space Echo   \n",
              "6      4CB90AA5                           True             Roman Messer   \n",
              "7      F03E1C1F               Feeling This Way          Polina Griffith   \n",
              "8      8FA1D3BE                       L’estate              Julia Dalia   \n",
              "...         ...                            ...                      ...   \n",
              "61247  83A474E7  I Worship Only What You Bleed  The Black Dahlia Murder   \n",
              "61248  729CBB09                        My Name                   McLean   \n",
              "61250  C5E3A0D5                      Jalopiina                  unknown   \n",
              "61251  321D0506                  Freight Train            Chas McDevitt   \n",
              "61252  3A64EF84      Tell Me Sweet Little Lies             Monica Lopez   \n",
              "\n",
              "              genre         city      time        day  \n",
              "1              rock  Springfield  14:07:09     Friday  \n",
              "4             dance  Springfield  08:34:34     Monday  \n",
              "6             dance  Springfield  13:00:07  Wednesday  \n",
              "7             dance  Springfield  20:47:49  Wednesday  \n",
              "8            ruspop  Springfield  09:17:40     Friday  \n",
              "...             ...          ...       ...        ...  \n",
              "61247  extrememetal  Springfield  21:07:12     Monday  \n",
              "61248           rnb  Springfield  13:32:28  Wednesday  \n",
              "61250    industrial  Springfield  20:09:26     Friday  \n",
              "61251          rock  Springfield  21:43:59     Friday  \n",
              "61252       country  Springfield  21:59:46     Friday  \n",
              "\n",
              "[42741 rows x 7 columns]"
            ],
            "text/html": [
              "\n",
              "  <div id=\"df-e1ac83f6-4008-4acb-bc1b-e5c2a864812a\" class=\"colab-df-container\">\n",
              "    <div>\n",
              "<style scoped>\n",
              "    .dataframe tbody tr th:only-of-type {\n",
              "        vertical-align: middle;\n",
              "    }\n",
              "\n",
              "    .dataframe tbody tr th {\n",
              "        vertical-align: top;\n",
              "    }\n",
              "\n",
              "    .dataframe thead th {\n",
              "        text-align: right;\n",
              "    }\n",
              "</style>\n",
              "<table border=\"1\" class=\"dataframe\">\n",
              "  <thead>\n",
              "    <tr style=\"text-align: right;\">\n",
              "      <th></th>\n",
              "      <th>user_id</th>\n",
              "      <th>track</th>\n",
              "      <th>artist</th>\n",
              "      <th>genre</th>\n",
              "      <th>city</th>\n",
              "      <th>time</th>\n",
              "      <th>day</th>\n",
              "    </tr>\n",
              "  </thead>\n",
              "  <tbody>\n",
              "    <tr>\n",
              "      <th>1</th>\n",
              "      <td>55204538</td>\n",
              "      <td>Delayed Because of Accident</td>\n",
              "      <td>Andreas Rönnberg</td>\n",
              "      <td>rock</td>\n",
              "      <td>Springfield</td>\n",
              "      <td>14:07:09</td>\n",
              "      <td>Friday</td>\n",
              "    </tr>\n",
              "    <tr>\n",
              "      <th>4</th>\n",
              "      <td>E2DC1FAE</td>\n",
              "      <td>Soul People</td>\n",
              "      <td>Space Echo</td>\n",
              "      <td>dance</td>\n",
              "      <td>Springfield</td>\n",
              "      <td>08:34:34</td>\n",
              "      <td>Monday</td>\n",
              "    </tr>\n",
              "    <tr>\n",
              "      <th>6</th>\n",
              "      <td>4CB90AA5</td>\n",
              "      <td>True</td>\n",
              "      <td>Roman Messer</td>\n",
              "      <td>dance</td>\n",
              "      <td>Springfield</td>\n",
              "      <td>13:00:07</td>\n",
              "      <td>Wednesday</td>\n",
              "    </tr>\n",
              "    <tr>\n",
              "      <th>7</th>\n",
              "      <td>F03E1C1F</td>\n",
              "      <td>Feeling This Way</td>\n",
              "      <td>Polina Griffith</td>\n",
              "      <td>dance</td>\n",
              "      <td>Springfield</td>\n",
              "      <td>20:47:49</td>\n",
              "      <td>Wednesday</td>\n",
              "    </tr>\n",
              "    <tr>\n",
              "      <th>8</th>\n",
              "      <td>8FA1D3BE</td>\n",
              "      <td>L’estate</td>\n",
              "      <td>Julia Dalia</td>\n",
              "      <td>ruspop</td>\n",
              "      <td>Springfield</td>\n",
              "      <td>09:17:40</td>\n",
              "      <td>Friday</td>\n",
              "    </tr>\n",
              "    <tr>\n",
              "      <th>...</th>\n",
              "      <td>...</td>\n",
              "      <td>...</td>\n",
              "      <td>...</td>\n",
              "      <td>...</td>\n",
              "      <td>...</td>\n",
              "      <td>...</td>\n",
              "      <td>...</td>\n",
              "    </tr>\n",
              "    <tr>\n",
              "      <th>61247</th>\n",
              "      <td>83A474E7</td>\n",
              "      <td>I Worship Only What You Bleed</td>\n",
              "      <td>The Black Dahlia Murder</td>\n",
              "      <td>extrememetal</td>\n",
              "      <td>Springfield</td>\n",
              "      <td>21:07:12</td>\n",
              "      <td>Monday</td>\n",
              "    </tr>\n",
              "    <tr>\n",
              "      <th>61248</th>\n",
              "      <td>729CBB09</td>\n",
              "      <td>My Name</td>\n",
              "      <td>McLean</td>\n",
              "      <td>rnb</td>\n",
              "      <td>Springfield</td>\n",
              "      <td>13:32:28</td>\n",
              "      <td>Wednesday</td>\n",
              "    </tr>\n",
              "    <tr>\n",
              "      <th>61250</th>\n",
              "      <td>C5E3A0D5</td>\n",
              "      <td>Jalopiina</td>\n",
              "      <td>unknown</td>\n",
              "      <td>industrial</td>\n",
              "      <td>Springfield</td>\n",
              "      <td>20:09:26</td>\n",
              "      <td>Friday</td>\n",
              "    </tr>\n",
              "    <tr>\n",
              "      <th>61251</th>\n",
              "      <td>321D0506</td>\n",
              "      <td>Freight Train</td>\n",
              "      <td>Chas McDevitt</td>\n",
              "      <td>rock</td>\n",
              "      <td>Springfield</td>\n",
              "      <td>21:43:59</td>\n",
              "      <td>Friday</td>\n",
              "    </tr>\n",
              "    <tr>\n",
              "      <th>61252</th>\n",
              "      <td>3A64EF84</td>\n",
              "      <td>Tell Me Sweet Little Lies</td>\n",
              "      <td>Monica Lopez</td>\n",
              "      <td>country</td>\n",
              "      <td>Springfield</td>\n",
              "      <td>21:59:46</td>\n",
              "      <td>Friday</td>\n",
              "    </tr>\n",
              "  </tbody>\n",
              "</table>\n",
              "<p>42741 rows × 7 columns</p>\n",
              "</div>\n",
              "    <div class=\"colab-df-buttons\">\n",
              "\n",
              "  <div class=\"colab-df-container\">\n",
              "    <button class=\"colab-df-convert\" onclick=\"convertToInteractive('df-e1ac83f6-4008-4acb-bc1b-e5c2a864812a')\"\n",
              "            title=\"Convert this dataframe to an interactive table.\"\n",
              "            style=\"display:none;\">\n",
              "\n",
              "  <svg xmlns=\"http://www.w3.org/2000/svg\" height=\"24px\" viewBox=\"0 -960 960 960\">\n",
              "    <path d=\"M120-120v-720h720v720H120Zm60-500h600v-160H180v160Zm220 220h160v-160H400v160Zm0 220h160v-160H400v160ZM180-400h160v-160H180v160Zm440 0h160v-160H620v160ZM180-180h160v-160H180v160Zm440 0h160v-160H620v160Z\"/>\n",
              "  </svg>\n",
              "    </button>\n",
              "\n",
              "  <style>\n",
              "    .colab-df-container {\n",
              "      display:flex;\n",
              "      gap: 12px;\n",
              "    }\n",
              "\n",
              "    .colab-df-convert {\n",
              "      background-color: #E8F0FE;\n",
              "      border: none;\n",
              "      border-radius: 50%;\n",
              "      cursor: pointer;\n",
              "      display: none;\n",
              "      fill: #1967D2;\n",
              "      height: 32px;\n",
              "      padding: 0 0 0 0;\n",
              "      width: 32px;\n",
              "    }\n",
              "\n",
              "    .colab-df-convert:hover {\n",
              "      background-color: #E2EBFA;\n",
              "      box-shadow: 0px 1px 2px rgba(60, 64, 67, 0.3), 0px 1px 3px 1px rgba(60, 64, 67, 0.15);\n",
              "      fill: #174EA6;\n",
              "    }\n",
              "\n",
              "    .colab-df-buttons div {\n",
              "      margin-bottom: 4px;\n",
              "    }\n",
              "\n",
              "    [theme=dark] .colab-df-convert {\n",
              "      background-color: #3B4455;\n",
              "      fill: #D2E3FC;\n",
              "    }\n",
              "\n",
              "    [theme=dark] .colab-df-convert:hover {\n",
              "      background-color: #434B5C;\n",
              "      box-shadow: 0px 1px 3px 1px rgba(0, 0, 0, 0.15);\n",
              "      filter: drop-shadow(0px 1px 2px rgba(0, 0, 0, 0.3));\n",
              "      fill: #FFFFFF;\n",
              "    }\n",
              "  </style>\n",
              "\n",
              "    <script>\n",
              "      const buttonEl =\n",
              "        document.querySelector('#df-e1ac83f6-4008-4acb-bc1b-e5c2a864812a button.colab-df-convert');\n",
              "      buttonEl.style.display =\n",
              "        google.colab.kernel.accessAllowed ? 'block' : 'none';\n",
              "\n",
              "      async function convertToInteractive(key) {\n",
              "        const element = document.querySelector('#df-e1ac83f6-4008-4acb-bc1b-e5c2a864812a');\n",
              "        const dataTable =\n",
              "          await google.colab.kernel.invokeFunction('convertToInteractive',\n",
              "                                                    [key], {});\n",
              "        if (!dataTable) return;\n",
              "\n",
              "        const docLinkHtml = 'Like what you see? Visit the ' +\n",
              "          '<a target=\"_blank\" href=https://colab.research.google.com/notebooks/data_table.ipynb>data table notebook</a>'\n",
              "          + ' to learn more about interactive tables.';\n",
              "        element.innerHTML = '';\n",
              "        dataTable['output_type'] = 'display_data';\n",
              "        await google.colab.output.renderOutput(dataTable, element);\n",
              "        const docLink = document.createElement('div');\n",
              "        docLink.innerHTML = docLinkHtml;\n",
              "        element.appendChild(docLink);\n",
              "      }\n",
              "    </script>\n",
              "  </div>\n",
              "\n",
              "\n",
              "<div id=\"df-8baa5c4d-1493-479b-a288-8397f40c0a0e\">\n",
              "  <button class=\"colab-df-quickchart\" onclick=\"quickchart('df-8baa5c4d-1493-479b-a288-8397f40c0a0e')\"\n",
              "            title=\"Suggest charts\"\n",
              "            style=\"display:none;\">\n",
              "\n",
              "<svg xmlns=\"http://www.w3.org/2000/svg\" height=\"24px\"viewBox=\"0 0 24 24\"\n",
              "     width=\"24px\">\n",
              "    <g>\n",
              "        <path d=\"M19 3H5c-1.1 0-2 .9-2 2v14c0 1.1.9 2 2 2h14c1.1 0 2-.9 2-2V5c0-1.1-.9-2-2-2zM9 17H7v-7h2v7zm4 0h-2V7h2v10zm4 0h-2v-4h2v4z\"/>\n",
              "    </g>\n",
              "</svg>\n",
              "  </button>\n",
              "\n",
              "<style>\n",
              "  .colab-df-quickchart {\n",
              "      --bg-color: #E8F0FE;\n",
              "      --fill-color: #1967D2;\n",
              "      --hover-bg-color: #E2EBFA;\n",
              "      --hover-fill-color: #174EA6;\n",
              "      --disabled-fill-color: #AAA;\n",
              "      --disabled-bg-color: #DDD;\n",
              "  }\n",
              "\n",
              "  [theme=dark] .colab-df-quickchart {\n",
              "      --bg-color: #3B4455;\n",
              "      --fill-color: #D2E3FC;\n",
              "      --hover-bg-color: #434B5C;\n",
              "      --hover-fill-color: #FFFFFF;\n",
              "      --disabled-bg-color: #3B4455;\n",
              "      --disabled-fill-color: #666;\n",
              "  }\n",
              "\n",
              "  .colab-df-quickchart {\n",
              "    background-color: var(--bg-color);\n",
              "    border: none;\n",
              "    border-radius: 50%;\n",
              "    cursor: pointer;\n",
              "    display: none;\n",
              "    fill: var(--fill-color);\n",
              "    height: 32px;\n",
              "    padding: 0;\n",
              "    width: 32px;\n",
              "  }\n",
              "\n",
              "  .colab-df-quickchart:hover {\n",
              "    background-color: var(--hover-bg-color);\n",
              "    box-shadow: 0 1px 2px rgba(60, 64, 67, 0.3), 0 1px 3px 1px rgba(60, 64, 67, 0.15);\n",
              "    fill: var(--button-hover-fill-color);\n",
              "  }\n",
              "\n",
              "  .colab-df-quickchart-complete:disabled,\n",
              "  .colab-df-quickchart-complete:disabled:hover {\n",
              "    background-color: var(--disabled-bg-color);\n",
              "    fill: var(--disabled-fill-color);\n",
              "    box-shadow: none;\n",
              "  }\n",
              "\n",
              "  .colab-df-spinner {\n",
              "    border: 2px solid var(--fill-color);\n",
              "    border-color: transparent;\n",
              "    border-bottom-color: var(--fill-color);\n",
              "    animation:\n",
              "      spin 1s steps(1) infinite;\n",
              "  }\n",
              "\n",
              "  @keyframes spin {\n",
              "    0% {\n",
              "      border-color: transparent;\n",
              "      border-bottom-color: var(--fill-color);\n",
              "      border-left-color: var(--fill-color);\n",
              "    }\n",
              "    20% {\n",
              "      border-color: transparent;\n",
              "      border-left-color: var(--fill-color);\n",
              "      border-top-color: var(--fill-color);\n",
              "    }\n",
              "    30% {\n",
              "      border-color: transparent;\n",
              "      border-left-color: var(--fill-color);\n",
              "      border-top-color: var(--fill-color);\n",
              "      border-right-color: var(--fill-color);\n",
              "    }\n",
              "    40% {\n",
              "      border-color: transparent;\n",
              "      border-right-color: var(--fill-color);\n",
              "      border-top-color: var(--fill-color);\n",
              "    }\n",
              "    60% {\n",
              "      border-color: transparent;\n",
              "      border-right-color: var(--fill-color);\n",
              "    }\n",
              "    80% {\n",
              "      border-color: transparent;\n",
              "      border-right-color: var(--fill-color);\n",
              "      border-bottom-color: var(--fill-color);\n",
              "    }\n",
              "    90% {\n",
              "      border-color: transparent;\n",
              "      border-bottom-color: var(--fill-color);\n",
              "    }\n",
              "  }\n",
              "</style>\n",
              "\n",
              "  <script>\n",
              "    async function quickchart(key) {\n",
              "      const quickchartButtonEl =\n",
              "        document.querySelector('#' + key + ' button');\n",
              "      quickchartButtonEl.disabled = true;  // To prevent multiple clicks.\n",
              "      quickchartButtonEl.classList.add('colab-df-spinner');\n",
              "      try {\n",
              "        const charts = await google.colab.kernel.invokeFunction(\n",
              "            'suggestCharts', [key], {});\n",
              "      } catch (error) {\n",
              "        console.error('Error during call to suggestCharts:', error);\n",
              "      }\n",
              "      quickchartButtonEl.classList.remove('colab-df-spinner');\n",
              "      quickchartButtonEl.classList.add('colab-df-quickchart-complete');\n",
              "    }\n",
              "    (() => {\n",
              "      let quickchartButtonEl =\n",
              "        document.querySelector('#df-8baa5c4d-1493-479b-a288-8397f40c0a0e button');\n",
              "      quickchartButtonEl.style.display =\n",
              "        google.colab.kernel.accessAllowed ? 'block' : 'none';\n",
              "    })();\n",
              "  </script>\n",
              "</div>\n",
              "    </div>\n",
              "  </div>\n"
            ]
          },
          "metadata": {},
          "execution_count": 30
        }
      ],
      "source": [
        "# mendapatkan tabel spr_general dari baris df,\n",
        "# di mana nilai dari kolom 'city' adalah 'Springfield'\n",
        "spr_general=df[df['city']=='Springfield']\n",
        "spr_general"
      ]
    },
    {
      "cell_type": "code",
      "execution_count": 31,
      "metadata": {
        "id": "ORaVRKto_Zcu",
        "outputId": "43e21950-25ec-4422-9fe5-1f9397aedbd2",
        "colab": {
          "base_uri": "https://localhost:8080/",
          "height": 423
        }
      },
      "outputs": [
        {
          "output_type": "execute_result",
          "data": {
            "text/plain": [
              "        user_id                              track              artist  \\\n",
              "0      FFB692EC                  Kamigata To Boots    The Mass Missile   \n",
              "2        20EC38                  Funiculì funiculà         Mario Lanza   \n",
              "3      A3DD03C9              Dragons in the Sunset          Fire + Ice   \n",
              "5      842029A1                             Chains            Obladaet   \n",
              "9      E772D5C0                          Pessimist             unknown   \n",
              "...         ...                                ...                 ...   \n",
              "61239  D94F810B        Theme from the Walking Dead  Proyecto Halloween   \n",
              "61240  BC8EC5CF       Red Lips: Gta (Rover Rework)               Rover   \n",
              "61241  29E04611                       Bre Petrunko       Perunika Trio   \n",
              "61242  1B91C621             (Hello) Cloud Mountain     sleepmakeswaves   \n",
              "61249  D08D4A55  Maybe One Day (feat. Black Spade)         Blu & Exile   \n",
              "\n",
              "            genre         city      time        day  \n",
              "0            rock  Shelbyville  20:28:33  Wednesday  \n",
              "2             pop  Shelbyville  20:58:07  Wednesday  \n",
              "3            folk  Shelbyville  08:37:09     Monday  \n",
              "5          rusrap  Shelbyville  13:09:41     Friday  \n",
              "9           dance  Shelbyville  21:20:49  Wednesday  \n",
              "...           ...          ...       ...        ...  \n",
              "61239        film  Shelbyville  21:14:40     Monday  \n",
              "61240  electronic  Shelbyville  21:06:50     Monday  \n",
              "61241       world  Shelbyville  13:56:00     Monday  \n",
              "61242    postrock  Shelbyville  09:22:13     Monday  \n",
              "61249      hiphop  Shelbyville  10:00:00     Monday  \n",
              "\n",
              "[18512 rows x 7 columns]"
            ],
            "text/html": [
              "\n",
              "  <div id=\"df-9b6216a7-5338-4545-96fe-fe5f3852a682\" class=\"colab-df-container\">\n",
              "    <div>\n",
              "<style scoped>\n",
              "    .dataframe tbody tr th:only-of-type {\n",
              "        vertical-align: middle;\n",
              "    }\n",
              "\n",
              "    .dataframe tbody tr th {\n",
              "        vertical-align: top;\n",
              "    }\n",
              "\n",
              "    .dataframe thead th {\n",
              "        text-align: right;\n",
              "    }\n",
              "</style>\n",
              "<table border=\"1\" class=\"dataframe\">\n",
              "  <thead>\n",
              "    <tr style=\"text-align: right;\">\n",
              "      <th></th>\n",
              "      <th>user_id</th>\n",
              "      <th>track</th>\n",
              "      <th>artist</th>\n",
              "      <th>genre</th>\n",
              "      <th>city</th>\n",
              "      <th>time</th>\n",
              "      <th>day</th>\n",
              "    </tr>\n",
              "  </thead>\n",
              "  <tbody>\n",
              "    <tr>\n",
              "      <th>0</th>\n",
              "      <td>FFB692EC</td>\n",
              "      <td>Kamigata To Boots</td>\n",
              "      <td>The Mass Missile</td>\n",
              "      <td>rock</td>\n",
              "      <td>Shelbyville</td>\n",
              "      <td>20:28:33</td>\n",
              "      <td>Wednesday</td>\n",
              "    </tr>\n",
              "    <tr>\n",
              "      <th>2</th>\n",
              "      <td>20EC38</td>\n",
              "      <td>Funiculì funiculà</td>\n",
              "      <td>Mario Lanza</td>\n",
              "      <td>pop</td>\n",
              "      <td>Shelbyville</td>\n",
              "      <td>20:58:07</td>\n",
              "      <td>Wednesday</td>\n",
              "    </tr>\n",
              "    <tr>\n",
              "      <th>3</th>\n",
              "      <td>A3DD03C9</td>\n",
              "      <td>Dragons in the Sunset</td>\n",
              "      <td>Fire + Ice</td>\n",
              "      <td>folk</td>\n",
              "      <td>Shelbyville</td>\n",
              "      <td>08:37:09</td>\n",
              "      <td>Monday</td>\n",
              "    </tr>\n",
              "    <tr>\n",
              "      <th>5</th>\n",
              "      <td>842029A1</td>\n",
              "      <td>Chains</td>\n",
              "      <td>Obladaet</td>\n",
              "      <td>rusrap</td>\n",
              "      <td>Shelbyville</td>\n",
              "      <td>13:09:41</td>\n",
              "      <td>Friday</td>\n",
              "    </tr>\n",
              "    <tr>\n",
              "      <th>9</th>\n",
              "      <td>E772D5C0</td>\n",
              "      <td>Pessimist</td>\n",
              "      <td>unknown</td>\n",
              "      <td>dance</td>\n",
              "      <td>Shelbyville</td>\n",
              "      <td>21:20:49</td>\n",
              "      <td>Wednesday</td>\n",
              "    </tr>\n",
              "    <tr>\n",
              "      <th>...</th>\n",
              "      <td>...</td>\n",
              "      <td>...</td>\n",
              "      <td>...</td>\n",
              "      <td>...</td>\n",
              "      <td>...</td>\n",
              "      <td>...</td>\n",
              "      <td>...</td>\n",
              "    </tr>\n",
              "    <tr>\n",
              "      <th>61239</th>\n",
              "      <td>D94F810B</td>\n",
              "      <td>Theme from the Walking Dead</td>\n",
              "      <td>Proyecto Halloween</td>\n",
              "      <td>film</td>\n",
              "      <td>Shelbyville</td>\n",
              "      <td>21:14:40</td>\n",
              "      <td>Monday</td>\n",
              "    </tr>\n",
              "    <tr>\n",
              "      <th>61240</th>\n",
              "      <td>BC8EC5CF</td>\n",
              "      <td>Red Lips: Gta (Rover Rework)</td>\n",
              "      <td>Rover</td>\n",
              "      <td>electronic</td>\n",
              "      <td>Shelbyville</td>\n",
              "      <td>21:06:50</td>\n",
              "      <td>Monday</td>\n",
              "    </tr>\n",
              "    <tr>\n",
              "      <th>61241</th>\n",
              "      <td>29E04611</td>\n",
              "      <td>Bre Petrunko</td>\n",
              "      <td>Perunika Trio</td>\n",
              "      <td>world</td>\n",
              "      <td>Shelbyville</td>\n",
              "      <td>13:56:00</td>\n",
              "      <td>Monday</td>\n",
              "    </tr>\n",
              "    <tr>\n",
              "      <th>61242</th>\n",
              "      <td>1B91C621</td>\n",
              "      <td>(Hello) Cloud Mountain</td>\n",
              "      <td>sleepmakeswaves</td>\n",
              "      <td>postrock</td>\n",
              "      <td>Shelbyville</td>\n",
              "      <td>09:22:13</td>\n",
              "      <td>Monday</td>\n",
              "    </tr>\n",
              "    <tr>\n",
              "      <th>61249</th>\n",
              "      <td>D08D4A55</td>\n",
              "      <td>Maybe One Day (feat. Black Spade)</td>\n",
              "      <td>Blu &amp; Exile</td>\n",
              "      <td>hiphop</td>\n",
              "      <td>Shelbyville</td>\n",
              "      <td>10:00:00</td>\n",
              "      <td>Monday</td>\n",
              "    </tr>\n",
              "  </tbody>\n",
              "</table>\n",
              "<p>18512 rows × 7 columns</p>\n",
              "</div>\n",
              "    <div class=\"colab-df-buttons\">\n",
              "\n",
              "  <div class=\"colab-df-container\">\n",
              "    <button class=\"colab-df-convert\" onclick=\"convertToInteractive('df-9b6216a7-5338-4545-96fe-fe5f3852a682')\"\n",
              "            title=\"Convert this dataframe to an interactive table.\"\n",
              "            style=\"display:none;\">\n",
              "\n",
              "  <svg xmlns=\"http://www.w3.org/2000/svg\" height=\"24px\" viewBox=\"0 -960 960 960\">\n",
              "    <path d=\"M120-120v-720h720v720H120Zm60-500h600v-160H180v160Zm220 220h160v-160H400v160Zm0 220h160v-160H400v160ZM180-400h160v-160H180v160Zm440 0h160v-160H620v160ZM180-180h160v-160H180v160Zm440 0h160v-160H620v160Z\"/>\n",
              "  </svg>\n",
              "    </button>\n",
              "\n",
              "  <style>\n",
              "    .colab-df-container {\n",
              "      display:flex;\n",
              "      gap: 12px;\n",
              "    }\n",
              "\n",
              "    .colab-df-convert {\n",
              "      background-color: #E8F0FE;\n",
              "      border: none;\n",
              "      border-radius: 50%;\n",
              "      cursor: pointer;\n",
              "      display: none;\n",
              "      fill: #1967D2;\n",
              "      height: 32px;\n",
              "      padding: 0 0 0 0;\n",
              "      width: 32px;\n",
              "    }\n",
              "\n",
              "    .colab-df-convert:hover {\n",
              "      background-color: #E2EBFA;\n",
              "      box-shadow: 0px 1px 2px rgba(60, 64, 67, 0.3), 0px 1px 3px 1px rgba(60, 64, 67, 0.15);\n",
              "      fill: #174EA6;\n",
              "    }\n",
              "\n",
              "    .colab-df-buttons div {\n",
              "      margin-bottom: 4px;\n",
              "    }\n",
              "\n",
              "    [theme=dark] .colab-df-convert {\n",
              "      background-color: #3B4455;\n",
              "      fill: #D2E3FC;\n",
              "    }\n",
              "\n",
              "    [theme=dark] .colab-df-convert:hover {\n",
              "      background-color: #434B5C;\n",
              "      box-shadow: 0px 1px 3px 1px rgba(0, 0, 0, 0.15);\n",
              "      filter: drop-shadow(0px 1px 2px rgba(0, 0, 0, 0.3));\n",
              "      fill: #FFFFFF;\n",
              "    }\n",
              "  </style>\n",
              "\n",
              "    <script>\n",
              "      const buttonEl =\n",
              "        document.querySelector('#df-9b6216a7-5338-4545-96fe-fe5f3852a682 button.colab-df-convert');\n",
              "      buttonEl.style.display =\n",
              "        google.colab.kernel.accessAllowed ? 'block' : 'none';\n",
              "\n",
              "      async function convertToInteractive(key) {\n",
              "        const element = document.querySelector('#df-9b6216a7-5338-4545-96fe-fe5f3852a682');\n",
              "        const dataTable =\n",
              "          await google.colab.kernel.invokeFunction('convertToInteractive',\n",
              "                                                    [key], {});\n",
              "        if (!dataTable) return;\n",
              "\n",
              "        const docLinkHtml = 'Like what you see? Visit the ' +\n",
              "          '<a target=\"_blank\" href=https://colab.research.google.com/notebooks/data_table.ipynb>data table notebook</a>'\n",
              "          + ' to learn more about interactive tables.';\n",
              "        element.innerHTML = '';\n",
              "        dataTable['output_type'] = 'display_data';\n",
              "        await google.colab.output.renderOutput(dataTable, element);\n",
              "        const docLink = document.createElement('div');\n",
              "        docLink.innerHTML = docLinkHtml;\n",
              "        element.appendChild(docLink);\n",
              "      }\n",
              "    </script>\n",
              "  </div>\n",
              "\n",
              "\n",
              "<div id=\"df-4a7d8bbc-8fab-465b-ab7a-0ed7495bdcdd\">\n",
              "  <button class=\"colab-df-quickchart\" onclick=\"quickchart('df-4a7d8bbc-8fab-465b-ab7a-0ed7495bdcdd')\"\n",
              "            title=\"Suggest charts\"\n",
              "            style=\"display:none;\">\n",
              "\n",
              "<svg xmlns=\"http://www.w3.org/2000/svg\" height=\"24px\"viewBox=\"0 0 24 24\"\n",
              "     width=\"24px\">\n",
              "    <g>\n",
              "        <path d=\"M19 3H5c-1.1 0-2 .9-2 2v14c0 1.1.9 2 2 2h14c1.1 0 2-.9 2-2V5c0-1.1-.9-2-2-2zM9 17H7v-7h2v7zm4 0h-2V7h2v10zm4 0h-2v-4h2v4z\"/>\n",
              "    </g>\n",
              "</svg>\n",
              "  </button>\n",
              "\n",
              "<style>\n",
              "  .colab-df-quickchart {\n",
              "      --bg-color: #E8F0FE;\n",
              "      --fill-color: #1967D2;\n",
              "      --hover-bg-color: #E2EBFA;\n",
              "      --hover-fill-color: #174EA6;\n",
              "      --disabled-fill-color: #AAA;\n",
              "      --disabled-bg-color: #DDD;\n",
              "  }\n",
              "\n",
              "  [theme=dark] .colab-df-quickchart {\n",
              "      --bg-color: #3B4455;\n",
              "      --fill-color: #D2E3FC;\n",
              "      --hover-bg-color: #434B5C;\n",
              "      --hover-fill-color: #FFFFFF;\n",
              "      --disabled-bg-color: #3B4455;\n",
              "      --disabled-fill-color: #666;\n",
              "  }\n",
              "\n",
              "  .colab-df-quickchart {\n",
              "    background-color: var(--bg-color);\n",
              "    border: none;\n",
              "    border-radius: 50%;\n",
              "    cursor: pointer;\n",
              "    display: none;\n",
              "    fill: var(--fill-color);\n",
              "    height: 32px;\n",
              "    padding: 0;\n",
              "    width: 32px;\n",
              "  }\n",
              "\n",
              "  .colab-df-quickchart:hover {\n",
              "    background-color: var(--hover-bg-color);\n",
              "    box-shadow: 0 1px 2px rgba(60, 64, 67, 0.3), 0 1px 3px 1px rgba(60, 64, 67, 0.15);\n",
              "    fill: var(--button-hover-fill-color);\n",
              "  }\n",
              "\n",
              "  .colab-df-quickchart-complete:disabled,\n",
              "  .colab-df-quickchart-complete:disabled:hover {\n",
              "    background-color: var(--disabled-bg-color);\n",
              "    fill: var(--disabled-fill-color);\n",
              "    box-shadow: none;\n",
              "  }\n",
              "\n",
              "  .colab-df-spinner {\n",
              "    border: 2px solid var(--fill-color);\n",
              "    border-color: transparent;\n",
              "    border-bottom-color: var(--fill-color);\n",
              "    animation:\n",
              "      spin 1s steps(1) infinite;\n",
              "  }\n",
              "\n",
              "  @keyframes spin {\n",
              "    0% {\n",
              "      border-color: transparent;\n",
              "      border-bottom-color: var(--fill-color);\n",
              "      border-left-color: var(--fill-color);\n",
              "    }\n",
              "    20% {\n",
              "      border-color: transparent;\n",
              "      border-left-color: var(--fill-color);\n",
              "      border-top-color: var(--fill-color);\n",
              "    }\n",
              "    30% {\n",
              "      border-color: transparent;\n",
              "      border-left-color: var(--fill-color);\n",
              "      border-top-color: var(--fill-color);\n",
              "      border-right-color: var(--fill-color);\n",
              "    }\n",
              "    40% {\n",
              "      border-color: transparent;\n",
              "      border-right-color: var(--fill-color);\n",
              "      border-top-color: var(--fill-color);\n",
              "    }\n",
              "    60% {\n",
              "      border-color: transparent;\n",
              "      border-right-color: var(--fill-color);\n",
              "    }\n",
              "    80% {\n",
              "      border-color: transparent;\n",
              "      border-right-color: var(--fill-color);\n",
              "      border-bottom-color: var(--fill-color);\n",
              "    }\n",
              "    90% {\n",
              "      border-color: transparent;\n",
              "      border-bottom-color: var(--fill-color);\n",
              "    }\n",
              "  }\n",
              "</style>\n",
              "\n",
              "  <script>\n",
              "    async function quickchart(key) {\n",
              "      const quickchartButtonEl =\n",
              "        document.querySelector('#' + key + ' button');\n",
              "      quickchartButtonEl.disabled = true;  // To prevent multiple clicks.\n",
              "      quickchartButtonEl.classList.add('colab-df-spinner');\n",
              "      try {\n",
              "        const charts = await google.colab.kernel.invokeFunction(\n",
              "            'suggestCharts', [key], {});\n",
              "      } catch (error) {\n",
              "        console.error('Error during call to suggestCharts:', error);\n",
              "      }\n",
              "      quickchartButtonEl.classList.remove('colab-df-spinner');\n",
              "      quickchartButtonEl.classList.add('colab-df-quickchart-complete');\n",
              "    }\n",
              "    (() => {\n",
              "      let quickchartButtonEl =\n",
              "        document.querySelector('#df-4a7d8bbc-8fab-465b-ab7a-0ed7495bdcdd button');\n",
              "      quickchartButtonEl.style.display =\n",
              "        google.colab.kernel.accessAllowed ? 'block' : 'none';\n",
              "    })();\n",
              "  </script>\n",
              "</div>\n",
              "    </div>\n",
              "  </div>\n"
            ]
          },
          "metadata": {},
          "execution_count": 31
        }
      ],
      "source": [
        "# mendapatkan shel_general dari baris df,\n",
        "# di mana nilai dari kolom 'city' adalah 'Shelbyville'\n",
        "shel_general=df[df['city']=='Shelbyville']\n",
        "shel_general"
      ]
    },
    {
      "cell_type": "code",
      "execution_count": 28,
      "metadata": {
        "id": "laJT9BYl_Zcu"
      },
      "outputs": [],
      "source": [
        "# tulis fungsi Anda di sini\n",
        "def genre_weekday(data, day, time1, time2):\n",
        "    genre_df = data[data['day']==day]\n",
        "    genre_df = genre_df[genre_df['time']<=time2]\n",
        "    genre_df = genre_df[genre_df['time']>=time1]\n",
        "    genre_df_grouped = genre_df.groupby('genre')['genre'].count()\n",
        "    genre_df_sorted = genre_df_grouped.sort_values( ascending = False )\n",
        "    return genre_df_sorted[:15]"
      ]
    },
    {
      "cell_type": "markdown",
      "metadata": {
        "id": "la2s2_PF_Zcu"
      },
      "source": [
        "Bandingkan hasil fungsi `genre_weekday()` untuk Springfield dan Shelbyville pada Senin pagi (dari pukul 07.00 hingga 11.00) dan pada Jumat malam (dari pukul 17:00 hingga 23:00):"
      ]
    },
    {
      "cell_type": "code",
      "execution_count": 32,
      "metadata": {
        "id": "yz7itPUQ_Zcu",
        "scrolled": true,
        "outputId": "d0b3d8df-efab-4282-f9ce-d73217bfc923",
        "colab": {
          "base_uri": "https://localhost:8080/"
        }
      },
      "outputs": [
        {
          "output_type": "execute_result",
          "data": {
            "text/plain": [
              "genre\n",
              "pop            781\n",
              "dance          549\n",
              "electronic     480\n",
              "rock           474\n",
              "hiphop         286\n",
              "ruspop         186\n",
              "world          181\n",
              "rusrap         175\n",
              "alternative    164\n",
              "unknown        161\n",
              "classical      157\n",
              "metal          120\n",
              "jazz           100\n",
              "folk            97\n",
              "soundtrack      95\n",
              "Name: genre, dtype: int64"
            ]
          },
          "metadata": {},
          "execution_count": 32
        }
      ],
      "source": [
        "# memanggil fungsi untuk Senin pagi di Springfield (gunakan spr_general alih-alih tabel df)\n",
        "genre_weekday(spr_general,'Monday', '07:00', '11:00')"
      ]
    },
    {
      "cell_type": "code",
      "execution_count": 33,
      "metadata": {
        "id": "kwUcHPdy_Zcu",
        "outputId": "e8cfad93-82c5-4131-89c3-912583ec8893",
        "colab": {
          "base_uri": "https://localhost:8080/"
        }
      },
      "outputs": [
        {
          "output_type": "execute_result",
          "data": {
            "text/plain": [
              "genre\n",
              "pop            218\n",
              "dance          182\n",
              "rock           162\n",
              "electronic     147\n",
              "hiphop          80\n",
              "ruspop          64\n",
              "alternative     58\n",
              "rusrap          55\n",
              "jazz            44\n",
              "classical       40\n",
              "world           36\n",
              "rap             32\n",
              "soundtrack      31\n",
              "rnb             27\n",
              "metal           27\n",
              "Name: genre, dtype: int64"
            ]
          },
          "metadata": {},
          "execution_count": 33
        }
      ],
      "source": [
        "# memanggil fungsi untuk Senin pagi di Shelbyville (gunakan shel_general alih-alih tabel df)\n",
        "genre_weekday(shel_general, 'Monday', '07:00', '11:00')"
      ]
    },
    {
      "cell_type": "code",
      "execution_count": 34,
      "metadata": {
        "id": "EzXVRE1o_Zcu",
        "outputId": "a5f5fbf6-022b-4c2e-b38d-0de02c9db8c1",
        "colab": {
          "base_uri": "https://localhost:8080/"
        }
      },
      "outputs": [
        {
          "output_type": "execute_result",
          "data": {
            "text/plain": [
              "genre\n",
              "pop            713\n",
              "rock           517\n",
              "dance          495\n",
              "electronic     482\n",
              "hiphop         273\n",
              "world          208\n",
              "ruspop         170\n",
              "classical      163\n",
              "alternative    163\n",
              "rusrap         142\n",
              "jazz           111\n",
              "unknown        110\n",
              "soundtrack     105\n",
              "rnb             90\n",
              "metal           88\n",
              "Name: genre, dtype: int64"
            ]
          },
          "metadata": {},
          "execution_count": 34
        }
      ],
      "source": [
        "# memanggil fungsi untuk Jumat malam di Springfield\n",
        "genre_weekday(spr_general, 'Friday', '17:00', '23:00')"
      ]
    },
    {
      "cell_type": "code",
      "execution_count": 35,
      "metadata": {
        "id": "JZaEKu5v_Zcu",
        "outputId": "7d7820dd-4c60-4e8f-df84-47695df0b495",
        "colab": {
          "base_uri": "https://localhost:8080/"
        }
      },
      "outputs": [
        {
          "output_type": "execute_result",
          "data": {
            "text/plain": [
              "genre\n",
              "pop            256\n",
              "rock           216\n",
              "electronic     216\n",
              "dance          210\n",
              "hiphop          97\n",
              "alternative     63\n",
              "jazz            61\n",
              "classical       60\n",
              "rusrap          59\n",
              "world           54\n",
              "unknown         47\n",
              "ruspop          47\n",
              "soundtrack      40\n",
              "metal           39\n",
              "rap             36\n",
              "Name: genre, dtype: int64"
            ]
          },
          "metadata": {},
          "execution_count": 35
        }
      ],
      "source": [
        "# memanggil fungsi untuk Jumat malam di Shelbyville\n",
        "genre_weekday(shel_general, 'Friday', '17:00', '23:00')"
      ]
    },
    {
      "cell_type": "markdown",
      "metadata": {
        "id": "wrCe4MNX_Zcu"
      },
      "source": [
        "**Kesimpulan**\n",
        "\n",
        "Setelah membandingkan 15 genre teratas pada Senin pagi, kita dapat menarik kesimpulan berikut:\n",
        "\n",
        "1. Pengguna dari Springfield dan Shelbyville mendengarkan musik dengan genre yang sama. Lima genre teratas sama, hanya rock dan elektronik yang bertukar tempat.\n",
        "\n",
        "2. Di Springfield, jumlah nilai yang hilang ternyata sangat besar sehingga nilai `'unknown'` berada di urutan ke-10. Ini berarti bahwa nilai-nilai yang hilang memiliki jumlah data yang cukup besar.\n",
        "\n",
        "Setelah membandingkan 15 genre teratas pada Jumat malam, kita dapat menarik kesimpulan berikut:\n",
        "\n",
        "1. Pengguna dari Springfield dan Shelbyville mendengarkan musik dengan genre yang sama. Lima genre teratas sama, hanya dance dan elektronik yang bertukar tempat.\n",
        "\n",
        "2. Di Springfield, jumlah nilai yang hilang ternyata sangat besar sehingga nilai `'unknown'` berada di urutan ke-10. Ini berarti bahwa nilai-nilai yang hilang memiliki jumlah data yang cukup besar.\n",
        "\n",
        "Hipotesis kedua tidak diterima, karena kedua kota pada kedua waktu tersebut mendengarkan *genre* musik yang relatif sama."
      ]
    },
    {
      "cell_type": "markdown",
      "metadata": {
        "id": "JolODAqr_Zcu"
      },
      "source": [
        "### Hipotesis 3: Preferensi Genre di Springfield dan Shelbyville <a id='genre'></a>\n",
        "\n",
        "Hipotesis ketiga:\n",
        "- Shelbyville menyukai musik rap. Warga Springfield lebih menyukai pop."
      ]
    },
    {
      "cell_type": "code",
      "execution_count": null,
      "metadata": {
        "id": "r19lIPke_Zcu"
      },
      "outputs": [],
      "source": [
        "# melakukan irisan data, menghitung baris dan mengurutkan nilainya\n",
        "spr_genres= spr_general.groupby('genre')['genre'].count()\n",
        "spr_genres= spr_genres.sort_values(ascending=False)"
      ]
    },
    {
      "cell_type": "code",
      "execution_count": null,
      "metadata": {
        "id": "WhCSooF8_Zcv",
        "outputId": "6bcd6986-8ed9-4f3b-c2c0-85c503b6fada"
      },
      "outputs": [
        {
          "data": {
            "text/plain": [
              "genre\n",
              "pop            5892\n",
              "dance          4435\n",
              "rock           3965\n",
              "electronic     3786\n",
              "hiphop         2096\n",
              "classical      1616\n",
              "world          1432\n",
              "alternative    1379\n",
              "ruspop         1372\n",
              "rusrap         1161\n",
              "Name: genre, dtype: int64"
            ]
          },
          "execution_count": 55,
          "metadata": {},
          "output_type": "execute_result"
        }
      ],
      "source": [
        "# menampilkan 10 baris pertama dari spr_genres\n",
        "spr_genres.head(10)"
      ]
    },
    {
      "cell_type": "code",
      "execution_count": null,
      "metadata": {
        "id": "gluLIpE7_Zcv"
      },
      "outputs": [],
      "source": [
        "# melakukan irisan data, menghitung baris dan mengurutkan nilainya\n",
        "shel_genres= shel_general.groupby('genre')['genre'].count()\n",
        "shel_genres= shel_genres.sort_values(ascending=False)"
      ]
    },
    {
      "cell_type": "code",
      "execution_count": null,
      "metadata": {
        "id": "uaGJHjVU_Zcv",
        "scrolled": true,
        "outputId": "39c6ab34-d7f9-4923-8363-dc1f29f98cd3"
      },
      "outputs": [
        {
          "data": {
            "text/plain": [
              "genre\n",
              "pop            2431\n",
              "dance          1932\n",
              "rock           1879\n",
              "electronic     1736\n",
              "hiphop          960\n",
              "alternative     649\n",
              "classical       646\n",
              "rusrap          564\n",
              "ruspop          538\n",
              "world           515\n",
              "Name: genre, dtype: int64"
            ]
          },
          "execution_count": 57,
          "metadata": {},
          "output_type": "execute_result"
        }
      ],
      "source": [
        "# menampilkan 10 baris pertama dari shel_genres\n",
        "shel_genres.head(10)"
      ]
    },
    {
      "cell_type": "markdown",
      "metadata": {
        "id": "RY51YJYu_Zcv"
      },
      "source": [
        "**Kesimpulan**"
      ]
    },
    {
      "cell_type": "markdown",
      "metadata": {
        "id": "nVhnJEm__Zcv"
      },
      "source": [
        "Hipotesis ketiga tidak diterima, karena:\n",
        "* Musik pop menjadi *genre* teratas pada kedua kota.\n",
        "* Musik rap tidak termasuk 10 *genre* teratas pada kedua kota.\n"
      ]
    },
    {
      "cell_type": "markdown",
      "metadata": {
        "id": "ykKQ0N65_Zcv"
      },
      "source": [
        "# Kesimpulan dan Saran"
      ]
    },
    {
      "cell_type": "markdown",
      "metadata": {
        "id": "tjUwbHb3_Zcv"
      },
      "source": [
        "## Kesimpulan\n",
        "- Aktivitas pengguna berbeda-beda tergantung pada hari dan kotanya.\n",
        "- Pada senin pagi, penduduk Springfield dan Shelbyville mendengarkan genre yang relatif sama. Hal ini juga ini juga berlaku untuk Jumat malam.\n",
        "- Genre teratas pendengar di Springfield dan Shelbyville adalah pop."
      ]
    },
    {
      "cell_type": "markdown",
      "source": [
        "## Saran\n",
        "- Label musik dapat mempromosikan lagu secara berbeda ke tiap kota berdasarkan preferensinya."
      ],
      "metadata": {
        "id": "yvB7pwYkrA3n"
      }
    }
  ],
  "metadata": {
    "colab": {
      "provenance": []
    },
    "kernelspec": {
      "display_name": "Python 3 (ipykernel)",
      "language": "python",
      "name": "python3"
    },
    "language_info": {
      "codemirror_mode": {
        "name": "ipython",
        "version": 3
      },
      "file_extension": ".py",
      "mimetype": "text/x-python",
      "name": "python",
      "nbconvert_exporter": "python",
      "pygments_lexer": "ipython3",
      "version": "3.9.5"
    },
    "toc": {
      "base_numbering": 1,
      "nav_menu": {},
      "number_sections": true,
      "sideBar": true,
      "skip_h1_title": true,
      "title_cell": "Table of Contents",
      "title_sidebar": "Contents",
      "toc_cell": false,
      "toc_position": {},
      "toc_section_display": true,
      "toc_window_display": false
    }
  },
  "nbformat": 4,
  "nbformat_minor": 0
}